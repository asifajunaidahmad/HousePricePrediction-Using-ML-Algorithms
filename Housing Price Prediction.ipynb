{
 "cells": [
  {
   "cell_type": "markdown",
   "metadata": {},
   "source": [
    "# Housing Price Prediction using ML Algorithms"
   ]
  },
  {
   "cell_type": "markdown",
   "metadata": {},
   "source": [
    "## Importing modules "
   ]
  },
  {
   "cell_type": "code",
   "execution_count": 1,
   "metadata": {},
   "outputs": [],
   "source": [
    "import os, glob\n",
    "import pandas as pd\n",
    "import numpy as np\n",
    "import seaborn as sns\n",
    "import matplotlib.pyplot as plt \n",
    "from sklearn import preprocessing \n",
    "from sklearn.linear_model import LinearRegression, Ridge, Lasso\n",
    "from sklearn.model_selection import cross_val_score, train_test_split\n",
    "from sklearn.preprocessing import OneHotEncoder\n",
    "from sklearn.linear_model import SGDRegressor\n",
    "from sklearn import ensemble\n",
    "from sklearn.preprocessing import PolynomialFeatures\n",
    "from sklearn.metrics import mean_squared_error\n",
    "from sklearn.ensemble import IsolationForest\n",
    "from sklearn.ensemble import RandomForestRegressor\n",
    "from sklearn.ensemble import ExtraTreesRegressor\n",
    "from sklearn.metrics import mean_absolute_error\n",
    "from sklearn.metrics import r2_score"
   ]
  },
  {
   "cell_type": "markdown",
   "metadata": {},
   "source": [
    "## Merging data "
   ]
  },
  {
   "cell_type": "code",
   "execution_count": 1,
   "metadata": {},
   "outputs": [],
   "source": [
    "# Select the path of the dataset\n",
    "path = \"D:\\\\MS Data SceinceWork\\Machine learning\\\\Dataset\\\\\"\n",
    "\n",
    "# Collect all files needed to be combined\n",
    "all_files = glob.glob(os.path.join(path, \"Dataset*.csv\"))\n",
    "# load all selected files into a single DataFrame and converted it back to csv if needed\n",
    "data_from_each_file = (pd.read_csv(f, sep=',') for f in all_files)\n",
    "#data_merged   = pd.concat(data_from_each_file, ignore_index=True)\n",
    "#data_merged.to_csv( \"D:\\\\MS Data SceinceWork\\Machine learning\\\\Dataset\\\\Dataset_merged.csv\")"
   ]
  },
  {
   "cell_type": "markdown",
   "metadata": {},
   "source": [
    "## Loading data from file "
   ]
  },
  {
   "cell_type": "markdown",
   "metadata": {},
   "source": [
    " The merged dataset for Housing Price Pridiction is loaded into Pandas Data Frame."
   ]
  },
  {
   "cell_type": "code",
   "execution_count": 3,
   "metadata": {},
   "outputs": [],
   "source": [
    "#data = pd.read_csv('D:\\\\MS Data SceinceWork\\Machine learning\\\\Dataset\\\\Dataset_merged.csv')\n",
    "data = pd.read_csv('D:\\\\MS Data SceinceWork\\Machine learning\\\\Dataset\\\\clean dataset.csv')"
   ]
  },
  {
   "cell_type": "markdown",
   "metadata": {},
   "source": [
    "## Data Exploration "
   ]
  },
  {
   "cell_type": "markdown",
   "metadata": {},
   "source": [
    "Then the dataset is explored to get the feel of the dataset. Data analysis is performed as the intial step in order to find the characterization for understanding the nature of the data. Dataset is analysed to  check the dimensions of the dataset. Different features for house price prediction are analysed. Numeric and categorical features of the dataset are analysed. the dataset that needs to analyzed has 120683 rows and 17 columns. The dataset consists of different features that can used to predict the housing price of different sectors in Pakistan.   "
   ]
  },
  {
   "cell_type": "code",
   "execution_count": 4,
   "metadata": {},
   "outputs": [
    {
     "data": {
      "text/plain": [
       "(120683, 17)"
      ]
     },
     "execution_count": 4,
     "metadata": {},
     "output_type": "execute_result"
    }
   ],
   "source": [
    "# To get the dimentions of the dataset.\n",
    "data.shape"
   ]
  },
  {
   "cell_type": "code",
   "execution_count": 5,
   "metadata": {},
   "outputs": [
    {
     "data": {
      "text/plain": [
       "Index(['property_id', 'location_id', 'page_url', 'property_type', 'price',\n",
       "       'location', 'city', 'province_name', 'latitude', 'longitude', 'baths',\n",
       "       'area', 'purpose', 'bedrooms', 'date_added', 'agency', 'agent'],\n",
       "      dtype='object')"
      ]
     },
     "execution_count": 5,
     "metadata": {},
     "output_type": "execute_result"
    }
   ],
   "source": [
    "# To get the column names of the dataset\n",
    "data.columns"
   ]
  },
  {
   "cell_type": "code",
   "execution_count": 6,
   "metadata": {},
   "outputs": [
    {
     "data": {
      "text/plain": [
       "property_id        int64\n",
       "location_id        int64\n",
       "page_url          object\n",
       "property_type     object\n",
       "price              int64\n",
       "location          object\n",
       "city              object\n",
       "province_name     object\n",
       "latitude         float64\n",
       "longitude        float64\n",
       "baths              int64\n",
       "area             float64\n",
       "purpose           object\n",
       "bedrooms           int64\n",
       "date_added        object\n",
       "agency            object\n",
       "agent             object\n",
       "dtype: object"
      ]
     },
     "execution_count": 6,
     "metadata": {},
     "output_type": "execute_result"
    }
   ],
   "source": [
    "# To get the data types of the different features/ columns\n",
    "data.dtypes"
   ]
  },
  {
   "cell_type": "code",
   "execution_count": 7,
   "metadata": {},
   "outputs": [
    {
     "name": "stdout",
     "output_type": "stream",
     "text": [
      "<class 'pandas.core.frame.DataFrame'>\n",
      "RangeIndex: 120683 entries, 0 to 120682\n",
      "Data columns (total 17 columns):\n",
      " #   Column         Non-Null Count   Dtype  \n",
      "---  ------         --------------   -----  \n",
      " 0   property_id    120683 non-null  int64  \n",
      " 1   location_id    120683 non-null  int64  \n",
      " 2   page_url       120683 non-null  object \n",
      " 3   property_type  120683 non-null  object \n",
      " 4   price          120683 non-null  int64  \n",
      " 5   location       120683 non-null  object \n",
      " 6   city           120683 non-null  object \n",
      " 7   province_name  120683 non-null  object \n",
      " 8   latitude       120683 non-null  float64\n",
      " 9   longitude      120683 non-null  float64\n",
      " 10  baths          120683 non-null  int64  \n",
      " 11  area           120683 non-null  float64\n",
      " 12  purpose        120683 non-null  object \n",
      " 13  bedrooms       120683 non-null  int64  \n",
      " 14  date_added     120683 non-null  object \n",
      " 15  agency         89167 non-null   object \n",
      " 16  agent          89166 non-null   object \n",
      "dtypes: float64(3), int64(5), object(9)\n",
      "memory usage: 15.7+ MB\n"
     ]
    }
   ],
   "source": [
    "# to print the consise summary of the data set\n",
    "data.info()"
   ]
  },
  {
   "cell_type": "code",
   "execution_count": 8,
   "metadata": {},
   "outputs": [
    {
     "data": {
      "text/html": [
       "<div>\n",
       "<style scoped>\n",
       "    .dataframe tbody tr th:only-of-type {\n",
       "        vertical-align: middle;\n",
       "    }\n",
       "\n",
       "    .dataframe tbody tr th {\n",
       "        vertical-align: top;\n",
       "    }\n",
       "\n",
       "    .dataframe thead th {\n",
       "        text-align: right;\n",
       "    }\n",
       "</style>\n",
       "<table border=\"1\" class=\"dataframe\">\n",
       "  <thead>\n",
       "    <tr style=\"text-align: right;\">\n",
       "      <th></th>\n",
       "      <th>property_id</th>\n",
       "      <th>location_id</th>\n",
       "      <th>price</th>\n",
       "      <th>latitude</th>\n",
       "      <th>longitude</th>\n",
       "      <th>baths</th>\n",
       "      <th>area</th>\n",
       "      <th>bedrooms</th>\n",
       "    </tr>\n",
       "  </thead>\n",
       "  <tbody>\n",
       "    <tr>\n",
       "      <th>count</th>\n",
       "      <td>1.206830e+05</td>\n",
       "      <td>120683.000000</td>\n",
       "      <td>1.206830e+05</td>\n",
       "      <td>120683.000000</td>\n",
       "      <td>120683.000000</td>\n",
       "      <td>120683.000000</td>\n",
       "      <td>120683.000000</td>\n",
       "      <td>120683.000000</td>\n",
       "    </tr>\n",
       "    <tr>\n",
       "      <th>mean</th>\n",
       "      <td>1.554999e+07</td>\n",
       "      <td>4699.544783</td>\n",
       "      <td>2.474845e+07</td>\n",
       "      <td>29.436119</td>\n",
       "      <td>71.201029</td>\n",
       "      <td>3.087519</td>\n",
       "      <td>10.934462</td>\n",
       "      <td>3.402550</td>\n",
       "    </tr>\n",
       "    <tr>\n",
       "      <th>std</th>\n",
       "      <td>2.295199e+06</td>\n",
       "      <td>3817.881716</td>\n",
       "      <td>3.945421e+07</td>\n",
       "      <td>3.679741</td>\n",
       "      <td>3.280656</td>\n",
       "      <td>2.561013</td>\n",
       "      <td>37.830106</td>\n",
       "      <td>1.928411</td>\n",
       "    </tr>\n",
       "    <tr>\n",
       "      <th>min</th>\n",
       "      <td>8.657500e+04</td>\n",
       "      <td>1.000000</td>\n",
       "      <td>0.000000e+00</td>\n",
       "      <td>24.749425</td>\n",
       "      <td>31.389173</td>\n",
       "      <td>0.000000</td>\n",
       "      <td>0.100000</td>\n",
       "      <td>0.000000</td>\n",
       "    </tr>\n",
       "    <tr>\n",
       "      <th>25%</th>\n",
       "      <td>1.483214e+07</td>\n",
       "      <td>1446.000000</td>\n",
       "      <td>7.400000e+06</td>\n",
       "      <td>24.946375</td>\n",
       "      <td>67.129162</td>\n",
       "      <td>1.000000</td>\n",
       "      <td>4.500000</td>\n",
       "      <td>2.000000</td>\n",
       "    </tr>\n",
       "    <tr>\n",
       "      <th>50%</th>\n",
       "      <td>1.661561e+07</td>\n",
       "      <td>3652.000000</td>\n",
       "      <td>1.350000e+07</td>\n",
       "      <td>31.429589</td>\n",
       "      <td>73.073587</td>\n",
       "      <td>3.000000</td>\n",
       "      <td>6.400000</td>\n",
       "      <td>3.000000</td>\n",
       "    </tr>\n",
       "    <tr>\n",
       "      <th>75%</th>\n",
       "      <td>1.706843e+07</td>\n",
       "      <td>8288.000000</td>\n",
       "      <td>2.600000e+07</td>\n",
       "      <td>31.585176</td>\n",
       "      <td>74.256549</td>\n",
       "      <td>5.000000</td>\n",
       "      <td>10.000000</td>\n",
       "      <td>5.000000</td>\n",
       "    </tr>\n",
       "    <tr>\n",
       "      <th>max</th>\n",
       "      <td>2.647102e+07</td>\n",
       "      <td>14220.000000</td>\n",
       "      <td>2.000000e+09</td>\n",
       "      <td>73.184088</td>\n",
       "      <td>74.564727</td>\n",
       "      <td>403.000000</td>\n",
       "      <td>2302.000000</td>\n",
       "      <td>27.000000</td>\n",
       "    </tr>\n",
       "  </tbody>\n",
       "</table>\n",
       "</div>"
      ],
      "text/plain": [
       "        property_id    location_id         price       latitude  \\\n",
       "count  1.206830e+05  120683.000000  1.206830e+05  120683.000000   \n",
       "mean   1.554999e+07    4699.544783  2.474845e+07      29.436119   \n",
       "std    2.295199e+06    3817.881716  3.945421e+07       3.679741   \n",
       "min    8.657500e+04       1.000000  0.000000e+00      24.749425   \n",
       "25%    1.483214e+07    1446.000000  7.400000e+06      24.946375   \n",
       "50%    1.661561e+07    3652.000000  1.350000e+07      31.429589   \n",
       "75%    1.706843e+07    8288.000000  2.600000e+07      31.585176   \n",
       "max    2.647102e+07   14220.000000  2.000000e+09      73.184088   \n",
       "\n",
       "           longitude          baths           area       bedrooms  \n",
       "count  120683.000000  120683.000000  120683.000000  120683.000000  \n",
       "mean       71.201029       3.087519      10.934462       3.402550  \n",
       "std         3.280656       2.561013      37.830106       1.928411  \n",
       "min        31.389173       0.000000       0.100000       0.000000  \n",
       "25%        67.129162       1.000000       4.500000       2.000000  \n",
       "50%        73.073587       3.000000       6.400000       3.000000  \n",
       "75%        74.256549       5.000000      10.000000       5.000000  \n",
       "max        74.564727     403.000000    2302.000000      27.000000  "
      ]
     },
     "execution_count": 8,
     "metadata": {},
     "output_type": "execute_result"
    }
   ],
   "source": [
    "# to compute a summary of statistics pertaining to the DataFrame columns\n",
    "data.describe()"
   ]
  },
  {
   "cell_type": "code",
   "execution_count": 9,
   "metadata": {},
   "outputs": [
    {
     "data": {
      "text/html": [
       "<div>\n",
       "<style scoped>\n",
       "    .dataframe tbody tr th:only-of-type {\n",
       "        vertical-align: middle;\n",
       "    }\n",
       "\n",
       "    .dataframe tbody tr th {\n",
       "        vertical-align: top;\n",
       "    }\n",
       "\n",
       "    .dataframe thead th {\n",
       "        text-align: right;\n",
       "    }\n",
       "</style>\n",
       "<table border=\"1\" class=\"dataframe\">\n",
       "  <thead>\n",
       "    <tr style=\"text-align: right;\">\n",
       "      <th></th>\n",
       "      <th>MissvalCount</th>\n",
       "      <th>Percent</th>\n",
       "    </tr>\n",
       "  </thead>\n",
       "  <tbody>\n",
       "    <tr>\n",
       "      <th>agent</th>\n",
       "      <td>31517</td>\n",
       "      <td>26.12</td>\n",
       "    </tr>\n",
       "    <tr>\n",
       "      <th>agency</th>\n",
       "      <td>31516</td>\n",
       "      <td>26.11</td>\n",
       "    </tr>\n",
       "  </tbody>\n",
       "</table>\n",
       "</div>"
      ],
      "text/plain": [
       "        MissvalCount Percent\n",
       "agent          31517   26.12\n",
       "agency         31516   26.11"
      ]
     },
     "execution_count": 9,
     "metadata": {},
     "output_type": "execute_result"
    }
   ],
   "source": [
    "# to check the missing or null values in the data set \n",
    "data.isnull().sum()                                                     \n",
    "miss_val = data.isnull().sum().sort_values(ascending=False)\n",
    "miss_val = pd.DataFrame(data=data.isnull().sum().sort_values(ascending=False), columns=['MissvalCount'])\n",
    "\n",
    "# Add a new column to the dataframe and fill it with the percentage of missing values\n",
    "miss_val['Percent'] = miss_val.MissvalCount.apply(lambda x : '{:.2f}'.format(float(x)/data.shape[0] * 100)) \n",
    "miss_val = miss_val[miss_val.MissvalCount > 0]\n",
    "miss_val"
   ]
  },
  {
   "cell_type": "code",
   "execution_count": 10,
   "metadata": {},
   "outputs": [],
   "source": [
    "# drop the columns with highest missing values \n",
    "data = data.drop(['agent', 'agency'], axis=1)"
   ]
  },
  {
   "cell_type": "code",
   "execution_count": 11,
   "metadata": {},
   "outputs": [
    {
     "data": {
      "text/html": [
       "<div>\n",
       "<style scoped>\n",
       "    .dataframe tbody tr th:only-of-type {\n",
       "        vertical-align: middle;\n",
       "    }\n",
       "\n",
       "    .dataframe tbody tr th {\n",
       "        vertical-align: top;\n",
       "    }\n",
       "\n",
       "    .dataframe thead th {\n",
       "        text-align: right;\n",
       "    }\n",
       "</style>\n",
       "<table border=\"1\" class=\"dataframe\">\n",
       "  <thead>\n",
       "    <tr style=\"text-align: right;\">\n",
       "      <th></th>\n",
       "      <th>property_id</th>\n",
       "      <th>location_id</th>\n",
       "      <th>page_url</th>\n",
       "      <th>property_type</th>\n",
       "      <th>price</th>\n",
       "      <th>location</th>\n",
       "      <th>city</th>\n",
       "      <th>province_name</th>\n",
       "      <th>latitude</th>\n",
       "      <th>longitude</th>\n",
       "      <th>baths</th>\n",
       "      <th>area</th>\n",
       "      <th>purpose</th>\n",
       "      <th>bedrooms</th>\n",
       "      <th>date_added</th>\n",
       "    </tr>\n",
       "  </thead>\n",
       "  <tbody>\n",
       "    <tr>\n",
       "      <th>0</th>\n",
       "      <td>237062</td>\n",
       "      <td>3325</td>\n",
       "      <td>https://www.zameen.com/Property/g_10_g_10_2_gr...</td>\n",
       "      <td>Flat</td>\n",
       "      <td>10000000</td>\n",
       "      <td>G-10</td>\n",
       "      <td>Islamabad</td>\n",
       "      <td>Islamabad Capital</td>\n",
       "      <td>33.679890</td>\n",
       "      <td>73.012640</td>\n",
       "      <td>2</td>\n",
       "      <td>4.0</td>\n",
       "      <td>For Sale</td>\n",
       "      <td>2</td>\n",
       "      <td>2/4/2019</td>\n",
       "    </tr>\n",
       "    <tr>\n",
       "      <th>1</th>\n",
       "      <td>346905</td>\n",
       "      <td>3236</td>\n",
       "      <td>https://www.zameen.com/Property/e_11_2_service...</td>\n",
       "      <td>Flat</td>\n",
       "      <td>6900000</td>\n",
       "      <td>E-11</td>\n",
       "      <td>Islamabad</td>\n",
       "      <td>Islamabad Capital</td>\n",
       "      <td>33.700993</td>\n",
       "      <td>72.971492</td>\n",
       "      <td>3</td>\n",
       "      <td>5.6</td>\n",
       "      <td>For Sale</td>\n",
       "      <td>3</td>\n",
       "      <td>5/4/2019</td>\n",
       "    </tr>\n",
       "    <tr>\n",
       "      <th>2</th>\n",
       "      <td>386513</td>\n",
       "      <td>764</td>\n",
       "      <td>https://www.zameen.com/Property/islamabad_g_15...</td>\n",
       "      <td>House</td>\n",
       "      <td>16500000</td>\n",
       "      <td>G-15</td>\n",
       "      <td>Islamabad</td>\n",
       "      <td>Islamabad Capital</td>\n",
       "      <td>33.631486</td>\n",
       "      <td>72.926559</td>\n",
       "      <td>6</td>\n",
       "      <td>8.0</td>\n",
       "      <td>For Sale</td>\n",
       "      <td>5</td>\n",
       "      <td>7/17/2019</td>\n",
       "    </tr>\n",
       "    <tr>\n",
       "      <th>3</th>\n",
       "      <td>656161</td>\n",
       "      <td>340</td>\n",
       "      <td>https://www.zameen.com/Property/islamabad_bani...</td>\n",
       "      <td>House</td>\n",
       "      <td>43500000</td>\n",
       "      <td>Bani Gala</td>\n",
       "      <td>Islamabad</td>\n",
       "      <td>Islamabad Capital</td>\n",
       "      <td>33.707573</td>\n",
       "      <td>73.151199</td>\n",
       "      <td>4</td>\n",
       "      <td>20.0</td>\n",
       "      <td>For Sale</td>\n",
       "      <td>4</td>\n",
       "      <td>4/5/2019</td>\n",
       "    </tr>\n",
       "    <tr>\n",
       "      <th>4</th>\n",
       "      <td>841645</td>\n",
       "      <td>3226</td>\n",
       "      <td>https://www.zameen.com/Property/dha_valley_dha...</td>\n",
       "      <td>House</td>\n",
       "      <td>7000000</td>\n",
       "      <td>DHA Defence</td>\n",
       "      <td>Islamabad</td>\n",
       "      <td>Islamabad Capital</td>\n",
       "      <td>33.492591</td>\n",
       "      <td>73.301339</td>\n",
       "      <td>3</td>\n",
       "      <td>90.0</td>\n",
       "      <td>For Sale</td>\n",
       "      <td>3</td>\n",
       "      <td>7/10/2019</td>\n",
       "    </tr>\n",
       "  </tbody>\n",
       "</table>\n",
       "</div>"
      ],
      "text/plain": [
       "   property_id  location_id  \\\n",
       "0       237062         3325   \n",
       "1       346905         3236   \n",
       "2       386513          764   \n",
       "3       656161          340   \n",
       "4       841645         3226   \n",
       "\n",
       "                                            page_url property_type     price  \\\n",
       "0  https://www.zameen.com/Property/g_10_g_10_2_gr...          Flat  10000000   \n",
       "1  https://www.zameen.com/Property/e_11_2_service...          Flat   6900000   \n",
       "2  https://www.zameen.com/Property/islamabad_g_15...         House  16500000   \n",
       "3  https://www.zameen.com/Property/islamabad_bani...         House  43500000   \n",
       "4  https://www.zameen.com/Property/dha_valley_dha...         House   7000000   \n",
       "\n",
       "      location       city      province_name   latitude  longitude  baths  \\\n",
       "0         G-10  Islamabad  Islamabad Capital  33.679890  73.012640      2   \n",
       "1         E-11  Islamabad  Islamabad Capital  33.700993  72.971492      3   \n",
       "2         G-15  Islamabad  Islamabad Capital  33.631486  72.926559      6   \n",
       "3    Bani Gala  Islamabad  Islamabad Capital  33.707573  73.151199      4   \n",
       "4  DHA Defence  Islamabad  Islamabad Capital  33.492591  73.301339      3   \n",
       "\n",
       "   area   purpose  bedrooms date_added  \n",
       "0   4.0  For Sale         2   2/4/2019  \n",
       "1   5.6  For Sale         3   5/4/2019  \n",
       "2   8.0  For Sale         5  7/17/2019  \n",
       "3  20.0  For Sale         4   4/5/2019  \n",
       "4  90.0  For Sale         3  7/10/2019  "
      ]
     },
     "execution_count": 11,
     "metadata": {},
     "output_type": "execute_result"
    }
   ],
   "source": [
    "# to return the first five rows of the data frame\n",
    "data.head()"
   ]
  },
  {
   "cell_type": "code",
   "execution_count": 12,
   "metadata": {},
   "outputs": [
    {
     "data": {
      "text/plain": [
       "array(['Flat', 'House', 'Penthouse', 'Farm House', 'Lower Portion',\n",
       "       'Upper Portion', 'Room'], dtype=object)"
      ]
     },
     "execution_count": 12,
     "metadata": {},
     "output_type": "execute_result"
    }
   ],
   "source": [
    "# to get distinct values present in the Property_type column\n",
    "data['property_type'].unique()"
   ]
  },
  {
   "cell_type": "code",
   "execution_count": 13,
   "metadata": {},
   "outputs": [
    {
     "data": {
      "text/plain": [
       "array(['For Sale'], dtype=object)"
      ]
     },
     "execution_count": 13,
     "metadata": {},
     "output_type": "execute_result"
    }
   ],
   "source": [
    "# to get distinct values present in the purpose column\n",
    "data['purpose'].unique()"
   ]
  },
  {
   "cell_type": "code",
   "execution_count": 14,
   "metadata": {},
   "outputs": [
    {
     "data": {
      "text/plain": [
       "array(['G-10', 'E-11', 'G-15', ..., 'Bokra Road', 'Shahra-e-Liaquat',\n",
       "       'Sundar'], dtype=object)"
      ]
     },
     "execution_count": 14,
     "metadata": {},
     "output_type": "execute_result"
    }
   ],
   "source": [
    "# to get distinct values present in the location column\n",
    "data['location'].unique()"
   ]
  },
  {
   "cell_type": "code",
   "execution_count": 15,
   "metadata": {},
   "outputs": [],
   "source": [
    "# drop rows with any missing values\n",
    "data.dropna(inplace=True)"
   ]
  },
  {
   "cell_type": "code",
   "execution_count": 16,
   "metadata": {},
   "outputs": [
    {
     "name": "stdout",
     "output_type": "stream",
     "text": [
      "<class 'pandas.core.frame.DataFrame'>\n",
      "Int64Index: 120683 entries, 0 to 120682\n",
      "Data columns (total 15 columns):\n",
      " #   Column         Non-Null Count   Dtype  \n",
      "---  ------         --------------   -----  \n",
      " 0   property_id    120683 non-null  int64  \n",
      " 1   location_id    120683 non-null  int64  \n",
      " 2   page_url       120683 non-null  object \n",
      " 3   property_type  120683 non-null  object \n",
      " 4   price          120683 non-null  int64  \n",
      " 5   location       120683 non-null  object \n",
      " 6   city           120683 non-null  object \n",
      " 7   province_name  120683 non-null  object \n",
      " 8   latitude       120683 non-null  float64\n",
      " 9   longitude      120683 non-null  float64\n",
      " 10  baths          120683 non-null  int64  \n",
      " 11  area           120683 non-null  float64\n",
      " 12  purpose        120683 non-null  object \n",
      " 13  bedrooms       120683 non-null  int64  \n",
      " 14  date_added     120683 non-null  object \n",
      "dtypes: float64(3), int64(5), object(7)\n",
      "memory usage: 14.7+ MB\n"
     ]
    }
   ],
   "source": [
    "data.info()"
   ]
  },
  {
   "cell_type": "code",
   "execution_count": 17,
   "metadata": {},
   "outputs": [
    {
     "data": {
      "text/html": [
       "<div>\n",
       "<style scoped>\n",
       "    .dataframe tbody tr th:only-of-type {\n",
       "        vertical-align: middle;\n",
       "    }\n",
       "\n",
       "    .dataframe tbody tr th {\n",
       "        vertical-align: top;\n",
       "    }\n",
       "\n",
       "    .dataframe thead th {\n",
       "        text-align: right;\n",
       "    }\n",
       "</style>\n",
       "<table border=\"1\" class=\"dataframe\">\n",
       "  <thead>\n",
       "    <tr style=\"text-align: right;\">\n",
       "      <th></th>\n",
       "      <th>property_id</th>\n",
       "      <th>location_id</th>\n",
       "      <th>page_url</th>\n",
       "      <th>property_type</th>\n",
       "      <th>price</th>\n",
       "      <th>location</th>\n",
       "      <th>city</th>\n",
       "      <th>province_name</th>\n",
       "      <th>latitude</th>\n",
       "      <th>longitude</th>\n",
       "      <th>baths</th>\n",
       "      <th>area</th>\n",
       "      <th>purpose</th>\n",
       "      <th>bedrooms</th>\n",
       "      <th>date_added</th>\n",
       "    </tr>\n",
       "  </thead>\n",
       "  <tbody>\n",
       "    <tr>\n",
       "      <th>0</th>\n",
       "      <td>237062</td>\n",
       "      <td>3325</td>\n",
       "      <td>https://www.zameen.com/Property/g_10_g_10_2_gr...</td>\n",
       "      <td>Flat</td>\n",
       "      <td>10000000</td>\n",
       "      <td>G-10</td>\n",
       "      <td>Islamabad</td>\n",
       "      <td>Islamabad Capital</td>\n",
       "      <td>33.679890</td>\n",
       "      <td>73.012640</td>\n",
       "      <td>2</td>\n",
       "      <td>4.0</td>\n",
       "      <td>For Sale</td>\n",
       "      <td>2</td>\n",
       "      <td>2/4/2019</td>\n",
       "    </tr>\n",
       "    <tr>\n",
       "      <th>1</th>\n",
       "      <td>346905</td>\n",
       "      <td>3236</td>\n",
       "      <td>https://www.zameen.com/Property/e_11_2_service...</td>\n",
       "      <td>Flat</td>\n",
       "      <td>6900000</td>\n",
       "      <td>E-11</td>\n",
       "      <td>Islamabad</td>\n",
       "      <td>Islamabad Capital</td>\n",
       "      <td>33.700993</td>\n",
       "      <td>72.971492</td>\n",
       "      <td>3</td>\n",
       "      <td>5.6</td>\n",
       "      <td>For Sale</td>\n",
       "      <td>3</td>\n",
       "      <td>5/4/2019</td>\n",
       "    </tr>\n",
       "    <tr>\n",
       "      <th>2</th>\n",
       "      <td>386513</td>\n",
       "      <td>764</td>\n",
       "      <td>https://www.zameen.com/Property/islamabad_g_15...</td>\n",
       "      <td>House</td>\n",
       "      <td>16500000</td>\n",
       "      <td>G-15</td>\n",
       "      <td>Islamabad</td>\n",
       "      <td>Islamabad Capital</td>\n",
       "      <td>33.631486</td>\n",
       "      <td>72.926559</td>\n",
       "      <td>6</td>\n",
       "      <td>8.0</td>\n",
       "      <td>For Sale</td>\n",
       "      <td>5</td>\n",
       "      <td>7/17/2019</td>\n",
       "    </tr>\n",
       "    <tr>\n",
       "      <th>3</th>\n",
       "      <td>656161</td>\n",
       "      <td>340</td>\n",
       "      <td>https://www.zameen.com/Property/islamabad_bani...</td>\n",
       "      <td>House</td>\n",
       "      <td>43500000</td>\n",
       "      <td>Bani Gala</td>\n",
       "      <td>Islamabad</td>\n",
       "      <td>Islamabad Capital</td>\n",
       "      <td>33.707573</td>\n",
       "      <td>73.151199</td>\n",
       "      <td>4</td>\n",
       "      <td>20.0</td>\n",
       "      <td>For Sale</td>\n",
       "      <td>4</td>\n",
       "      <td>4/5/2019</td>\n",
       "    </tr>\n",
       "    <tr>\n",
       "      <th>4</th>\n",
       "      <td>841645</td>\n",
       "      <td>3226</td>\n",
       "      <td>https://www.zameen.com/Property/dha_valley_dha...</td>\n",
       "      <td>House</td>\n",
       "      <td>7000000</td>\n",
       "      <td>DHA Defence</td>\n",
       "      <td>Islamabad</td>\n",
       "      <td>Islamabad Capital</td>\n",
       "      <td>33.492591</td>\n",
       "      <td>73.301339</td>\n",
       "      <td>3</td>\n",
       "      <td>90.0</td>\n",
       "      <td>For Sale</td>\n",
       "      <td>3</td>\n",
       "      <td>7/10/2019</td>\n",
       "    </tr>\n",
       "  </tbody>\n",
       "</table>\n",
       "</div>"
      ],
      "text/plain": [
       "   property_id  location_id  \\\n",
       "0       237062         3325   \n",
       "1       346905         3236   \n",
       "2       386513          764   \n",
       "3       656161          340   \n",
       "4       841645         3226   \n",
       "\n",
       "                                            page_url property_type     price  \\\n",
       "0  https://www.zameen.com/Property/g_10_g_10_2_gr...          Flat  10000000   \n",
       "1  https://www.zameen.com/Property/e_11_2_service...          Flat   6900000   \n",
       "2  https://www.zameen.com/Property/islamabad_g_15...         House  16500000   \n",
       "3  https://www.zameen.com/Property/islamabad_bani...         House  43500000   \n",
       "4  https://www.zameen.com/Property/dha_valley_dha...         House   7000000   \n",
       "\n",
       "      location       city      province_name   latitude  longitude  baths  \\\n",
       "0         G-10  Islamabad  Islamabad Capital  33.679890  73.012640      2   \n",
       "1         E-11  Islamabad  Islamabad Capital  33.700993  72.971492      3   \n",
       "2         G-15  Islamabad  Islamabad Capital  33.631486  72.926559      6   \n",
       "3    Bani Gala  Islamabad  Islamabad Capital  33.707573  73.151199      4   \n",
       "4  DHA Defence  Islamabad  Islamabad Capital  33.492591  73.301339      3   \n",
       "\n",
       "   area   purpose  bedrooms date_added  \n",
       "0   4.0  For Sale         2   2/4/2019  \n",
       "1   5.6  For Sale         3   5/4/2019  \n",
       "2   8.0  For Sale         5  7/17/2019  \n",
       "3  20.0  For Sale         4   4/5/2019  \n",
       "4  90.0  For Sale         3  7/10/2019  "
      ]
     },
     "execution_count": 17,
     "metadata": {},
     "output_type": "execute_result"
    }
   ],
   "source": [
    "data.head()"
   ]
  },
  {
   "cell_type": "code",
   "execution_count": 18,
   "metadata": {},
   "outputs": [
    {
     "data": {
      "text/plain": [
       "(120683, 15)"
      ]
     },
     "execution_count": 18,
     "metadata": {},
     "output_type": "execute_result"
    }
   ],
   "source": [
    "#  Check the dimension of the dataset\n",
    "data.shape"
   ]
  },
  {
   "cell_type": "code",
   "execution_count": 19,
   "metadata": {},
   "outputs": [],
   "source": [
    "# extrating the rows for a specific value\n",
    "data_pred = data.loc[(data['purpose'] == 'For Sale')] "
   ]
  },
  {
   "cell_type": "code",
   "execution_count": 20,
   "metadata": {},
   "outputs": [
    {
     "data": {
      "text/plain": [
       "(120683, 15)"
      ]
     },
     "execution_count": 20,
     "metadata": {},
     "output_type": "execute_result"
    }
   ],
   "source": [
    "# Check the dimension of the dataset\n",
    "data_pred.shape"
   ]
  },
  {
   "cell_type": "code",
   "execution_count": 21,
   "metadata": {},
   "outputs": [
    {
     "data": {
      "text/html": [
       "<div>\n",
       "<style scoped>\n",
       "    .dataframe tbody tr th:only-of-type {\n",
       "        vertical-align: middle;\n",
       "    }\n",
       "\n",
       "    .dataframe tbody tr th {\n",
       "        vertical-align: top;\n",
       "    }\n",
       "\n",
       "    .dataframe thead th {\n",
       "        text-align: right;\n",
       "    }\n",
       "</style>\n",
       "<table border=\"1\" class=\"dataframe\">\n",
       "  <thead>\n",
       "    <tr style=\"text-align: right;\">\n",
       "      <th></th>\n",
       "      <th>property_id</th>\n",
       "      <th>location_id</th>\n",
       "      <th>page_url</th>\n",
       "      <th>property_type</th>\n",
       "      <th>price</th>\n",
       "      <th>location</th>\n",
       "      <th>city</th>\n",
       "      <th>province_name</th>\n",
       "      <th>latitude</th>\n",
       "      <th>longitude</th>\n",
       "      <th>baths</th>\n",
       "      <th>area</th>\n",
       "      <th>purpose</th>\n",
       "      <th>bedrooms</th>\n",
       "      <th>date_added</th>\n",
       "    </tr>\n",
       "  </thead>\n",
       "  <tbody>\n",
       "    <tr>\n",
       "      <th>120678</th>\n",
       "      <td>26469753</td>\n",
       "      <td>330</td>\n",
       "      <td>https://www.zameen.com/Property/islamabad_g_13...</td>\n",
       "      <td>House</td>\n",
       "      <td>19500000</td>\n",
       "      <td>G-13</td>\n",
       "      <td>Islamabad</td>\n",
       "      <td>Islamabad</td>\n",
       "      <td>33.648605</td>\n",
       "      <td>72.96236</td>\n",
       "      <td>5</td>\n",
       "      <td>4.4</td>\n",
       "      <td>For Sale</td>\n",
       "      <td>4</td>\n",
       "      <td>28/11/2020</td>\n",
       "    </tr>\n",
       "    <tr>\n",
       "      <th>120679</th>\n",
       "      <td>26469338</td>\n",
       "      <td>330</td>\n",
       "      <td>https://www.zameen.com/Property/islamabad_g_13...</td>\n",
       "      <td>House</td>\n",
       "      <td>29000000</td>\n",
       "      <td>G-13</td>\n",
       "      <td>Islamabad</td>\n",
       "      <td>Islamabad</td>\n",
       "      <td>33.648605</td>\n",
       "      <td>72.96236</td>\n",
       "      <td>7</td>\n",
       "      <td>8.0</td>\n",
       "      <td>For Sale</td>\n",
       "      <td>5</td>\n",
       "      <td>28/11/2020</td>\n",
       "    </tr>\n",
       "    <tr>\n",
       "      <th>120680</th>\n",
       "      <td>26469257</td>\n",
       "      <td>330</td>\n",
       "      <td>https://www.zameen.com/Property/islamabad_g_13...</td>\n",
       "      <td>House</td>\n",
       "      <td>19500000</td>\n",
       "      <td>G-13</td>\n",
       "      <td>Islamabad</td>\n",
       "      <td>Islamabad</td>\n",
       "      <td>33.648605</td>\n",
       "      <td>72.96236</td>\n",
       "      <td>5</td>\n",
       "      <td>4.4</td>\n",
       "      <td>For Sale</td>\n",
       "      <td>4</td>\n",
       "      <td>28/11/2020</td>\n",
       "    </tr>\n",
       "    <tr>\n",
       "      <th>120681</th>\n",
       "      <td>26469055</td>\n",
       "      <td>330</td>\n",
       "      <td>https://www.zameen.com/Property/islamabad_g_13...</td>\n",
       "      <td>House</td>\n",
       "      <td>19000000</td>\n",
       "      <td>G-13</td>\n",
       "      <td>Islamabad</td>\n",
       "      <td>Islamabad</td>\n",
       "      <td>33.648605</td>\n",
       "      <td>72.96236</td>\n",
       "      <td>5</td>\n",
       "      <td>4.4</td>\n",
       "      <td>For Sale</td>\n",
       "      <td>4</td>\n",
       "      <td>28/11/2020</td>\n",
       "    </tr>\n",
       "    <tr>\n",
       "      <th>120682</th>\n",
       "      <td>25624351</td>\n",
       "      <td>330</td>\n",
       "      <td>https://www.zameen.com/Property/islamabad_g_13...</td>\n",
       "      <td>House</td>\n",
       "      <td>55000000</td>\n",
       "      <td>G-13</td>\n",
       "      <td>Islamabad</td>\n",
       "      <td>Islamabad</td>\n",
       "      <td>33.648605</td>\n",
       "      <td>72.96236</td>\n",
       "      <td>7</td>\n",
       "      <td>14.2</td>\n",
       "      <td>For Sale</td>\n",
       "      <td>6</td>\n",
       "      <td>28/11/2020</td>\n",
       "    </tr>\n",
       "  </tbody>\n",
       "</table>\n",
       "</div>"
      ],
      "text/plain": [
       "        property_id  location_id  \\\n",
       "120678     26469753          330   \n",
       "120679     26469338          330   \n",
       "120680     26469257          330   \n",
       "120681     26469055          330   \n",
       "120682     25624351          330   \n",
       "\n",
       "                                                 page_url property_type  \\\n",
       "120678  https://www.zameen.com/Property/islamabad_g_13...         House   \n",
       "120679  https://www.zameen.com/Property/islamabad_g_13...         House   \n",
       "120680  https://www.zameen.com/Property/islamabad_g_13...         House   \n",
       "120681  https://www.zameen.com/Property/islamabad_g_13...         House   \n",
       "120682  https://www.zameen.com/Property/islamabad_g_13...         House   \n",
       "\n",
       "           price location       city province_name   latitude  longitude  \\\n",
       "120678  19500000     G-13  Islamabad     Islamabad  33.648605   72.96236   \n",
       "120679  29000000     G-13  Islamabad     Islamabad  33.648605   72.96236   \n",
       "120680  19500000     G-13  Islamabad     Islamabad  33.648605   72.96236   \n",
       "120681  19000000     G-13  Islamabad     Islamabad  33.648605   72.96236   \n",
       "120682  55000000     G-13  Islamabad     Islamabad  33.648605   72.96236   \n",
       "\n",
       "        baths  area   purpose  bedrooms  date_added  \n",
       "120678      5   4.4  For Sale         4  28/11/2020  \n",
       "120679      7   8.0  For Sale         5  28/11/2020  \n",
       "120680      5   4.4  For Sale         4  28/11/2020  \n",
       "120681      5   4.4  For Sale         4  28/11/2020  \n",
       "120682      7  14.2  For Sale         6  28/11/2020  "
      ]
     },
     "execution_count": 21,
     "metadata": {},
     "output_type": "execute_result"
    }
   ],
   "source": [
    "# to return the last rows of the data frame\n",
    "data_pred.tail()"
   ]
  },
  {
   "cell_type": "code",
   "execution_count": 22,
   "metadata": {},
   "outputs": [
    {
     "name": "stdout",
     "output_type": "stream",
     "text": [
      "[1 2 4 0 3 6 5]\n"
     ]
    }
   ],
   "source": [
    "# label_encoder object knows how to understand word labels. \n",
    "label_encoder = preprocessing.LabelEncoder() \n",
    "  \n",
    "# Encode labels in column 'property type'. \n",
    "data_pred['property_type']= label_encoder.fit_transform(data_pred['property_type']) \n",
    "  \n",
    "data_property_type = data_pred['property_type'].unique() \n",
    "print(data_property_type)"
   ]
  },
  {
   "cell_type": "code",
   "execution_count": 23,
   "metadata": {},
   "outputs": [
    {
     "name": "stdout",
     "output_type": "stream",
     "text": [
      "[1 3 0 4 2]\n"
     ]
    }
   ],
   "source": [
    "# label_encoder object knows how to understand word labels. \n",
    "label_encoder = preprocessing.LabelEncoder() \n",
    "  \n",
    "# Encode labels in column 'property type'. \n",
    "data_pred['city']= label_encoder.fit_transform(data_pred['city']) \n",
    "  \n",
    "data_property_type = data_pred['city'].unique() \n",
    "print(data_property_type)"
   ]
  },
  {
   "cell_type": "code",
   "execution_count": 24,
   "metadata": {},
   "outputs": [
    {
     "name": "stdout",
     "output_type": "stream",
     "text": [
      "[ 466  397  471 ...  231 1273 1340]\n"
     ]
    }
   ],
   "source": [
    "# label_encoder object knows how to understand word labels. \n",
    "label_encoder = preprocessing.LabelEncoder() \n",
    "  \n",
    "# Encode labels in column 'property type'. \n",
    "data_pred['location']= label_encoder.fit_transform(data_pred['location']) \n",
    "  \n",
    "data_property_type = data_pred['location'].unique() \n",
    "print(data_property_type)"
   ]
  },
  {
   "cell_type": "code",
   "execution_count": 25,
   "metadata": {},
   "outputs": [
    {
     "name": "stdout",
     "output_type": "stream",
     "text": [
      "[1 2 3 0]\n"
     ]
    }
   ],
   "source": [
    "# label_encoder object knows how to understand word labels. \n",
    "label_encoder = preprocessing.LabelEncoder() \n",
    "  \n",
    "# Encode labels in column 'property type'. \n",
    "data_pred['province_name']= label_encoder.fit_transform(data_pred['province_name']) \n",
    "  \n",
    "data_property_type = data_pred['province_name'].unique() \n",
    "print(data_property_type)"
   ]
  },
  {
   "cell_type": "markdown",
   "metadata": {},
   "source": [
    "There are lots of features in the dataset that are text. Most machine learning models require numerical input features. Since the process of converting text features to a numeric representation an involved task, so only  numeric features are used in price prediction. There is a need to convert data types of some features for simplicity, "
   ]
  },
  {
   "cell_type": "code",
   "execution_count": 26,
   "metadata": {},
   "outputs": [],
   "source": [
    "# changing the  data type of column property_type from object to int\n",
    "data_pred['property_type'] = data_pred['property_type'].astype(np.int64)"
   ]
  },
  {
   "cell_type": "code",
   "execution_count": 27,
   "metadata": {},
   "outputs": [],
   "source": [
    "# changing the  data type of column price from float to int\n",
    "data_pred['price'] = data_pred['price'].astype(np.int64)"
   ]
  },
  {
   "cell_type": "code",
   "execution_count": 28,
   "metadata": {},
   "outputs": [],
   "source": [
    "# changing the  data type of column area from object to float\n",
    "data_pred['area'] = data_pred['area'].astype(np.float64)"
   ]
  },
  {
   "cell_type": "code",
   "execution_count": 29,
   "metadata": {},
   "outputs": [],
   "source": [
    "# changing the  data type of column city from object to int\n",
    "data_pred['city'] = data_pred['city'].astype(np.int64)"
   ]
  },
  {
   "cell_type": "code",
   "execution_count": 30,
   "metadata": {},
   "outputs": [],
   "source": [
    "# changing the  data type of column location from object to int\n",
    "data_pred['location'] = data_pred['location'].astype(np.int64)"
   ]
  },
  {
   "cell_type": "code",
   "execution_count": 31,
   "metadata": {},
   "outputs": [],
   "source": [
    "# changing the  data type of column province_name from object to int\n",
    "data_pred['province_name'] = data_pred['province_name'].astype(np.int64)"
   ]
  },
  {
   "cell_type": "code",
   "execution_count": 32,
   "metadata": {},
   "outputs": [
    {
     "name": "stdout",
     "output_type": "stream",
     "text": [
      "<class 'pandas.core.frame.DataFrame'>\n",
      "Int64Index: 120683 entries, 0 to 120682\n",
      "Data columns (total 15 columns):\n",
      " #   Column         Non-Null Count   Dtype  \n",
      "---  ------         --------------   -----  \n",
      " 0   property_id    120683 non-null  int64  \n",
      " 1   location_id    120683 non-null  int64  \n",
      " 2   page_url       120683 non-null  object \n",
      " 3   property_type  120683 non-null  int64  \n",
      " 4   price          120683 non-null  int64  \n",
      " 5   location       120683 non-null  int64  \n",
      " 6   city           120683 non-null  int64  \n",
      " 7   province_name  120683 non-null  int64  \n",
      " 8   latitude       120683 non-null  float64\n",
      " 9   longitude      120683 non-null  float64\n",
      " 10  baths          120683 non-null  int64  \n",
      " 11  area           120683 non-null  float64\n",
      " 12  purpose        120683 non-null  object \n",
      " 13  bedrooms       120683 non-null  int64  \n",
      " 14  date_added     120683 non-null  object \n",
      "dtypes: float64(3), int64(9), object(3)\n",
      "memory usage: 14.7+ MB\n"
     ]
    }
   ],
   "source": [
    "# to print the consise summary of the data set after conversion\n",
    "data_pred.info()"
   ]
  },
  {
   "cell_type": "code",
   "execution_count": 33,
   "metadata": {},
   "outputs": [
    {
     "data": {
      "text/plain": [
       "property_id        int64\n",
       "location_id        int64\n",
       "page_url          object\n",
       "property_type      int64\n",
       "price              int64\n",
       "location           int64\n",
       "city               int64\n",
       "province_name      int64\n",
       "latitude         float64\n",
       "longitude        float64\n",
       "baths              int64\n",
       "area             float64\n",
       "purpose           object\n",
       "bedrooms           int64\n",
       "date_added        object\n",
       "dtype: object"
      ]
     },
     "execution_count": 33,
     "metadata": {},
     "output_type": "execute_result"
    }
   ],
   "source": [
    "# checking datatypes after conversion \n",
    "data_pred.dtypes"
   ]
  },
  {
   "cell_type": "code",
   "execution_count": 34,
   "metadata": {},
   "outputs": [
    {
     "data": {
      "text/html": [
       "<div>\n",
       "<style scoped>\n",
       "    .dataframe tbody tr th:only-of-type {\n",
       "        vertical-align: middle;\n",
       "    }\n",
       "\n",
       "    .dataframe tbody tr th {\n",
       "        vertical-align: top;\n",
       "    }\n",
       "\n",
       "    .dataframe thead th {\n",
       "        text-align: right;\n",
       "    }\n",
       "</style>\n",
       "<table border=\"1\" class=\"dataframe\">\n",
       "  <thead>\n",
       "    <tr style=\"text-align: right;\">\n",
       "      <th></th>\n",
       "      <th>property_id</th>\n",
       "      <th>location_id</th>\n",
       "      <th>page_url</th>\n",
       "      <th>property_type</th>\n",
       "      <th>price</th>\n",
       "      <th>location</th>\n",
       "      <th>city</th>\n",
       "      <th>province_name</th>\n",
       "      <th>latitude</th>\n",
       "      <th>longitude</th>\n",
       "      <th>baths</th>\n",
       "      <th>area</th>\n",
       "      <th>purpose</th>\n",
       "      <th>bedrooms</th>\n",
       "      <th>date_added</th>\n",
       "    </tr>\n",
       "  </thead>\n",
       "  <tbody>\n",
       "    <tr>\n",
       "      <th>0</th>\n",
       "      <td>237062</td>\n",
       "      <td>3325</td>\n",
       "      <td>https://www.zameen.com/Property/g_10_g_10_2_gr...</td>\n",
       "      <td>1</td>\n",
       "      <td>10000000</td>\n",
       "      <td>466</td>\n",
       "      <td>1</td>\n",
       "      <td>1</td>\n",
       "      <td>33.679890</td>\n",
       "      <td>73.012640</td>\n",
       "      <td>2</td>\n",
       "      <td>4.0</td>\n",
       "      <td>For Sale</td>\n",
       "      <td>2</td>\n",
       "      <td>2/4/2019</td>\n",
       "    </tr>\n",
       "    <tr>\n",
       "      <th>1</th>\n",
       "      <td>346905</td>\n",
       "      <td>3236</td>\n",
       "      <td>https://www.zameen.com/Property/e_11_2_service...</td>\n",
       "      <td>1</td>\n",
       "      <td>6900000</td>\n",
       "      <td>397</td>\n",
       "      <td>1</td>\n",
       "      <td>1</td>\n",
       "      <td>33.700993</td>\n",
       "      <td>72.971492</td>\n",
       "      <td>3</td>\n",
       "      <td>5.6</td>\n",
       "      <td>For Sale</td>\n",
       "      <td>3</td>\n",
       "      <td>5/4/2019</td>\n",
       "    </tr>\n",
       "    <tr>\n",
       "      <th>2</th>\n",
       "      <td>386513</td>\n",
       "      <td>764</td>\n",
       "      <td>https://www.zameen.com/Property/islamabad_g_15...</td>\n",
       "      <td>2</td>\n",
       "      <td>16500000</td>\n",
       "      <td>471</td>\n",
       "      <td>1</td>\n",
       "      <td>1</td>\n",
       "      <td>33.631486</td>\n",
       "      <td>72.926559</td>\n",
       "      <td>6</td>\n",
       "      <td>8.0</td>\n",
       "      <td>For Sale</td>\n",
       "      <td>5</td>\n",
       "      <td>7/17/2019</td>\n",
       "    </tr>\n",
       "    <tr>\n",
       "      <th>3</th>\n",
       "      <td>656161</td>\n",
       "      <td>340</td>\n",
       "      <td>https://www.zameen.com/Property/islamabad_bani...</td>\n",
       "      <td>2</td>\n",
       "      <td>43500000</td>\n",
       "      <td>202</td>\n",
       "      <td>1</td>\n",
       "      <td>1</td>\n",
       "      <td>33.707573</td>\n",
       "      <td>73.151199</td>\n",
       "      <td>4</td>\n",
       "      <td>20.0</td>\n",
       "      <td>For Sale</td>\n",
       "      <td>4</td>\n",
       "      <td>4/5/2019</td>\n",
       "    </tr>\n",
       "    <tr>\n",
       "      <th>4</th>\n",
       "      <td>841645</td>\n",
       "      <td>3226</td>\n",
       "      <td>https://www.zameen.com/Property/dha_valley_dha...</td>\n",
       "      <td>2</td>\n",
       "      <td>7000000</td>\n",
       "      <td>335</td>\n",
       "      <td>1</td>\n",
       "      <td>1</td>\n",
       "      <td>33.492591</td>\n",
       "      <td>73.301339</td>\n",
       "      <td>3</td>\n",
       "      <td>90.0</td>\n",
       "      <td>For Sale</td>\n",
       "      <td>3</td>\n",
       "      <td>7/10/2019</td>\n",
       "    </tr>\n",
       "    <tr>\n",
       "      <th>...</th>\n",
       "      <td>...</td>\n",
       "      <td>...</td>\n",
       "      <td>...</td>\n",
       "      <td>...</td>\n",
       "      <td>...</td>\n",
       "      <td>...</td>\n",
       "      <td>...</td>\n",
       "      <td>...</td>\n",
       "      <td>...</td>\n",
       "      <td>...</td>\n",
       "      <td>...</td>\n",
       "      <td>...</td>\n",
       "      <td>...</td>\n",
       "      <td>...</td>\n",
       "      <td>...</td>\n",
       "    </tr>\n",
       "    <tr>\n",
       "      <th>93</th>\n",
       "      <td>998953</td>\n",
       "      <td>1312</td>\n",
       "      <td>https://www.zameen.com/Property/chaklala_schem...</td>\n",
       "      <td>2</td>\n",
       "      <td>12800000</td>\n",
       "      <td>274</td>\n",
       "      <td>4</td>\n",
       "      <td>2</td>\n",
       "      <td>33.656924</td>\n",
       "      <td>73.143826</td>\n",
       "      <td>0</td>\n",
       "      <td>24.0</td>\n",
       "      <td>For Sale</td>\n",
       "      <td>0</td>\n",
       "      <td>11/6/2018</td>\n",
       "    </tr>\n",
       "    <tr>\n",
       "      <th>94</th>\n",
       "      <td>1232114</td>\n",
       "      <td>3046</td>\n",
       "      <td>https://www.zameen.com/Property/bahria_town_ra...</td>\n",
       "      <td>2</td>\n",
       "      <td>37000000</td>\n",
       "      <td>193</td>\n",
       "      <td>4</td>\n",
       "      <td>2</td>\n",
       "      <td>33.555451</td>\n",
       "      <td>73.138218</td>\n",
       "      <td>8</td>\n",
       "      <td>24.0</td>\n",
       "      <td>For Sale</td>\n",
       "      <td>6</td>\n",
       "      <td>7/5/2019</td>\n",
       "    </tr>\n",
       "    <tr>\n",
       "      <th>95</th>\n",
       "      <td>1253008</td>\n",
       "      <td>3045</td>\n",
       "      <td>https://www.zameen.com/Property/bahria_town_ra...</td>\n",
       "      <td>2</td>\n",
       "      <td>23000000</td>\n",
       "      <td>193</td>\n",
       "      <td>4</td>\n",
       "      <td>2</td>\n",
       "      <td>33.555594</td>\n",
       "      <td>73.133669</td>\n",
       "      <td>6</td>\n",
       "      <td>36.0</td>\n",
       "      <td>For Sale</td>\n",
       "      <td>5</td>\n",
       "      <td>7/5/2019</td>\n",
       "    </tr>\n",
       "    <tr>\n",
       "      <th>96</th>\n",
       "      <td>1273436</td>\n",
       "      <td>3035</td>\n",
       "      <td>https://www.zameen.com/Property/bahria_town_ra...</td>\n",
       "      <td>2</td>\n",
       "      <td>39500000</td>\n",
       "      <td>193</td>\n",
       "      <td>4</td>\n",
       "      <td>2</td>\n",
       "      <td>33.558920</td>\n",
       "      <td>73.118649</td>\n",
       "      <td>7</td>\n",
       "      <td>26.0</td>\n",
       "      <td>For Sale</td>\n",
       "      <td>6</td>\n",
       "      <td>7/5/2019</td>\n",
       "    </tr>\n",
       "    <tr>\n",
       "      <th>97</th>\n",
       "      <td>1298962</td>\n",
       "      <td>3046</td>\n",
       "      <td>https://www.zameen.com/Property/bahria_town_ra...</td>\n",
       "      <td>2</td>\n",
       "      <td>21000000</td>\n",
       "      <td>193</td>\n",
       "      <td>4</td>\n",
       "      <td>2</td>\n",
       "      <td>33.555451</td>\n",
       "      <td>73.138218</td>\n",
       "      <td>7</td>\n",
       "      <td>40.0</td>\n",
       "      <td>For Sale</td>\n",
       "      <td>5</td>\n",
       "      <td>7/5/2019</td>\n",
       "    </tr>\n",
       "  </tbody>\n",
       "</table>\n",
       "<p>98 rows × 15 columns</p>\n",
       "</div>"
      ],
      "text/plain": [
       "    property_id  location_id  \\\n",
       "0        237062         3325   \n",
       "1        346905         3236   \n",
       "2        386513          764   \n",
       "3        656161          340   \n",
       "4        841645         3226   \n",
       "..          ...          ...   \n",
       "93       998953         1312   \n",
       "94      1232114         3046   \n",
       "95      1253008         3045   \n",
       "96      1273436         3035   \n",
       "97      1298962         3046   \n",
       "\n",
       "                                             page_url  property_type  \\\n",
       "0   https://www.zameen.com/Property/g_10_g_10_2_gr...              1   \n",
       "1   https://www.zameen.com/Property/e_11_2_service...              1   \n",
       "2   https://www.zameen.com/Property/islamabad_g_15...              2   \n",
       "3   https://www.zameen.com/Property/islamabad_bani...              2   \n",
       "4   https://www.zameen.com/Property/dha_valley_dha...              2   \n",
       "..                                                ...            ...   \n",
       "93  https://www.zameen.com/Property/chaklala_schem...              2   \n",
       "94  https://www.zameen.com/Property/bahria_town_ra...              2   \n",
       "95  https://www.zameen.com/Property/bahria_town_ra...              2   \n",
       "96  https://www.zameen.com/Property/bahria_town_ra...              2   \n",
       "97  https://www.zameen.com/Property/bahria_town_ra...              2   \n",
       "\n",
       "       price  location  city  province_name   latitude  longitude  baths  \\\n",
       "0   10000000       466     1              1  33.679890  73.012640      2   \n",
       "1    6900000       397     1              1  33.700993  72.971492      3   \n",
       "2   16500000       471     1              1  33.631486  72.926559      6   \n",
       "3   43500000       202     1              1  33.707573  73.151199      4   \n",
       "4    7000000       335     1              1  33.492591  73.301339      3   \n",
       "..       ...       ...   ...            ...        ...        ...    ...   \n",
       "93  12800000       274     4              2  33.656924  73.143826      0   \n",
       "94  37000000       193     4              2  33.555451  73.138218      8   \n",
       "95  23000000       193     4              2  33.555594  73.133669      6   \n",
       "96  39500000       193     4              2  33.558920  73.118649      7   \n",
       "97  21000000       193     4              2  33.555451  73.138218      7   \n",
       "\n",
       "    area   purpose  bedrooms date_added  \n",
       "0    4.0  For Sale         2   2/4/2019  \n",
       "1    5.6  For Sale         3   5/4/2019  \n",
       "2    8.0  For Sale         5  7/17/2019  \n",
       "3   20.0  For Sale         4   4/5/2019  \n",
       "4   90.0  For Sale         3  7/10/2019  \n",
       "..   ...       ...       ...        ...  \n",
       "93  24.0  For Sale         0  11/6/2018  \n",
       "94  24.0  For Sale         6   7/5/2019  \n",
       "95  36.0  For Sale         5   7/5/2019  \n",
       "96  26.0  For Sale         6   7/5/2019  \n",
       "97  40.0  For Sale         5   7/5/2019  \n",
       "\n",
       "[98 rows x 15 columns]"
      ]
     },
     "execution_count": 34,
     "metadata": {},
     "output_type": "execute_result"
    }
   ],
   "source": [
    "# Return 98 rows from start\n",
    "data_pred.head(98)"
   ]
  },
  {
   "cell_type": "code",
   "execution_count": 35,
   "metadata": {},
   "outputs": [
    {
     "data": {
      "text/plain": [
       "IsolationForest(behaviour='deprecated', bootstrap=False, contamination=0.1,\n",
       "                max_features=1.0, max_samples='auto', n_estimators=50,\n",
       "                n_jobs=None, random_state=None, verbose=0, warm_start=False)"
      ]
     },
     "execution_count": 35,
     "metadata": {},
     "output_type": "execute_result"
    }
   ],
   "source": [
    "# identify outliers in the training dataset\n",
    "outliner_detect = IsolationForest(n_estimators=50, max_samples='auto', contamination=0.1)\n",
    "outliner_detect.fit(data_pred[['price']])\n"
   ]
  },
  {
   "cell_type": "code",
   "execution_count": 36,
   "metadata": {},
   "outputs": [
    {
     "data": {
      "text/html": [
       "<div>\n",
       "<style scoped>\n",
       "    .dataframe tbody tr th:only-of-type {\n",
       "        vertical-align: middle;\n",
       "    }\n",
       "\n",
       "    .dataframe tbody tr th {\n",
       "        vertical-align: top;\n",
       "    }\n",
       "\n",
       "    .dataframe thead th {\n",
       "        text-align: right;\n",
       "    }\n",
       "</style>\n",
       "<table border=\"1\" class=\"dataframe\">\n",
       "  <thead>\n",
       "    <tr style=\"text-align: right;\">\n",
       "      <th></th>\n",
       "      <th>property_id</th>\n",
       "      <th>location_id</th>\n",
       "      <th>page_url</th>\n",
       "      <th>property_type</th>\n",
       "      <th>price</th>\n",
       "      <th>location</th>\n",
       "      <th>city</th>\n",
       "      <th>province_name</th>\n",
       "      <th>latitude</th>\n",
       "      <th>longitude</th>\n",
       "      <th>baths</th>\n",
       "      <th>area</th>\n",
       "      <th>purpose</th>\n",
       "      <th>bedrooms</th>\n",
       "      <th>date_added</th>\n",
       "      <th>scores</th>\n",
       "      <th>anamoly</th>\n",
       "    </tr>\n",
       "  </thead>\n",
       "  <tbody>\n",
       "    <tr>\n",
       "      <th>0</th>\n",
       "      <td>237062</td>\n",
       "      <td>3325</td>\n",
       "      <td>https://www.zameen.com/Property/g_10_g_10_2_gr...</td>\n",
       "      <td>1</td>\n",
       "      <td>10000000</td>\n",
       "      <td>466</td>\n",
       "      <td>1</td>\n",
       "      <td>1</td>\n",
       "      <td>33.679890</td>\n",
       "      <td>73.012640</td>\n",
       "      <td>2</td>\n",
       "      <td>4.0</td>\n",
       "      <td>For Sale</td>\n",
       "      <td>2</td>\n",
       "      <td>2/4/2019</td>\n",
       "      <td>0.136874</td>\n",
       "      <td>1</td>\n",
       "    </tr>\n",
       "    <tr>\n",
       "      <th>1</th>\n",
       "      <td>346905</td>\n",
       "      <td>3236</td>\n",
       "      <td>https://www.zameen.com/Property/e_11_2_service...</td>\n",
       "      <td>1</td>\n",
       "      <td>6900000</td>\n",
       "      <td>397</td>\n",
       "      <td>1</td>\n",
       "      <td>1</td>\n",
       "      <td>33.700993</td>\n",
       "      <td>72.971492</td>\n",
       "      <td>3</td>\n",
       "      <td>5.6</td>\n",
       "      <td>For Sale</td>\n",
       "      <td>3</td>\n",
       "      <td>5/4/2019</td>\n",
       "      <td>0.142616</td>\n",
       "      <td>1</td>\n",
       "    </tr>\n",
       "    <tr>\n",
       "      <th>2</th>\n",
       "      <td>386513</td>\n",
       "      <td>764</td>\n",
       "      <td>https://www.zameen.com/Property/islamabad_g_15...</td>\n",
       "      <td>2</td>\n",
       "      <td>16500000</td>\n",
       "      <td>471</td>\n",
       "      <td>1</td>\n",
       "      <td>1</td>\n",
       "      <td>33.631486</td>\n",
       "      <td>72.926559</td>\n",
       "      <td>6</td>\n",
       "      <td>8.0</td>\n",
       "      <td>For Sale</td>\n",
       "      <td>5</td>\n",
       "      <td>7/17/2019</td>\n",
       "      <td>0.124937</td>\n",
       "      <td>1</td>\n",
       "    </tr>\n",
       "    <tr>\n",
       "      <th>3</th>\n",
       "      <td>656161</td>\n",
       "      <td>340</td>\n",
       "      <td>https://www.zameen.com/Property/islamabad_bani...</td>\n",
       "      <td>2</td>\n",
       "      <td>43500000</td>\n",
       "      <td>202</td>\n",
       "      <td>1</td>\n",
       "      <td>1</td>\n",
       "      <td>33.707573</td>\n",
       "      <td>73.151199</td>\n",
       "      <td>4</td>\n",
       "      <td>20.0</td>\n",
       "      <td>For Sale</td>\n",
       "      <td>4</td>\n",
       "      <td>4/5/2019</td>\n",
       "      <td>0.054798</td>\n",
       "      <td>1</td>\n",
       "    </tr>\n",
       "    <tr>\n",
       "      <th>4</th>\n",
       "      <td>841645</td>\n",
       "      <td>3226</td>\n",
       "      <td>https://www.zameen.com/Property/dha_valley_dha...</td>\n",
       "      <td>2</td>\n",
       "      <td>7000000</td>\n",
       "      <td>335</td>\n",
       "      <td>1</td>\n",
       "      <td>1</td>\n",
       "      <td>33.492591</td>\n",
       "      <td>73.301339</td>\n",
       "      <td>3</td>\n",
       "      <td>90.0</td>\n",
       "      <td>For Sale</td>\n",
       "      <td>3</td>\n",
       "      <td>7/10/2019</td>\n",
       "      <td>0.143309</td>\n",
       "      <td>1</td>\n",
       "    </tr>\n",
       "    <tr>\n",
       "      <th>...</th>\n",
       "      <td>...</td>\n",
       "      <td>...</td>\n",
       "      <td>...</td>\n",
       "      <td>...</td>\n",
       "      <td>...</td>\n",
       "      <td>...</td>\n",
       "      <td>...</td>\n",
       "      <td>...</td>\n",
       "      <td>...</td>\n",
       "      <td>...</td>\n",
       "      <td>...</td>\n",
       "      <td>...</td>\n",
       "      <td>...</td>\n",
       "      <td>...</td>\n",
       "      <td>...</td>\n",
       "      <td>...</td>\n",
       "      <td>...</td>\n",
       "    </tr>\n",
       "    <tr>\n",
       "      <th>65</th>\n",
       "      <td>2510674</td>\n",
       "      <td>9435</td>\n",
       "      <td>https://www.zameen.com/Property/askari_10_aska...</td>\n",
       "      <td>2</td>\n",
       "      <td>23000000</td>\n",
       "      <td>145</td>\n",
       "      <td>3</td>\n",
       "      <td>2</td>\n",
       "      <td>31.533161</td>\n",
       "      <td>74.419481</td>\n",
       "      <td>6</td>\n",
       "      <td>26.0</td>\n",
       "      <td>For Sale</td>\n",
       "      <td>5</td>\n",
       "      <td>6/18/2019</td>\n",
       "      <td>0.116651</td>\n",
       "      <td>1</td>\n",
       "    </tr>\n",
       "    <tr>\n",
       "      <th>66</th>\n",
       "      <td>2747251</td>\n",
       "      <td>3749</td>\n",
       "      <td>https://www.zameen.com/Property/eme_society_em...</td>\n",
       "      <td>2</td>\n",
       "      <td>57500000</td>\n",
       "      <td>403</td>\n",
       "      <td>3</td>\n",
       "      <td>2</td>\n",
       "      <td>31.439978</td>\n",
       "      <td>74.209685</td>\n",
       "      <td>5</td>\n",
       "      <td>20.0</td>\n",
       "      <td>For Sale</td>\n",
       "      <td>5</td>\n",
       "      <td>4/3/2019</td>\n",
       "      <td>-0.011298</td>\n",
       "      <td>-1</td>\n",
       "    </tr>\n",
       "    <tr>\n",
       "      <th>67</th>\n",
       "      <td>2794766</td>\n",
       "      <td>3794</td>\n",
       "      <td>https://www.zameen.com/Property/gor_gor_1_five...</td>\n",
       "      <td>2</td>\n",
       "      <td>620000000</td>\n",
       "      <td>478</td>\n",
       "      <td>3</td>\n",
       "      <td>2</td>\n",
       "      <td>31.543431</td>\n",
       "      <td>74.344225</td>\n",
       "      <td>8</td>\n",
       "      <td>120.0</td>\n",
       "      <td>For Sale</td>\n",
       "      <td>8</td>\n",
       "      <td>5/3/2019</td>\n",
       "      <td>-0.283971</td>\n",
       "      <td>-1</td>\n",
       "    </tr>\n",
       "    <tr>\n",
       "      <th>68</th>\n",
       "      <td>2801879</td>\n",
       "      <td>1494</td>\n",
       "      <td>https://www.zameen.com/Property/lahore_karim_p...</td>\n",
       "      <td>2</td>\n",
       "      <td>5500000</td>\n",
       "      <td>753</td>\n",
       "      <td>3</td>\n",
       "      <td>2</td>\n",
       "      <td>31.590234</td>\n",
       "      <td>74.300365</td>\n",
       "      <td>3</td>\n",
       "      <td>20.0</td>\n",
       "      <td>For Sale</td>\n",
       "      <td>3</td>\n",
       "      <td>6/11/2019</td>\n",
       "      <td>0.138930</td>\n",
       "      <td>1</td>\n",
       "    </tr>\n",
       "    <tr>\n",
       "      <th>69</th>\n",
       "      <td>2821111</td>\n",
       "      <td>154</td>\n",
       "      <td>https://www.zameen.com/Property/gulberg_zafar_...</td>\n",
       "      <td>2</td>\n",
       "      <td>50000000</td>\n",
       "      <td>538</td>\n",
       "      <td>3</td>\n",
       "      <td>2</td>\n",
       "      <td>31.538420</td>\n",
       "      <td>74.352357</td>\n",
       "      <td>6</td>\n",
       "      <td>40.0</td>\n",
       "      <td>For Sale</td>\n",
       "      <td>5</td>\n",
       "      <td>7/3/2019</td>\n",
       "      <td>0.020939</td>\n",
       "      <td>1</td>\n",
       "    </tr>\n",
       "  </tbody>\n",
       "</table>\n",
       "<p>70 rows × 17 columns</p>\n",
       "</div>"
      ],
      "text/plain": [
       "    property_id  location_id  \\\n",
       "0        237062         3325   \n",
       "1        346905         3236   \n",
       "2        386513          764   \n",
       "3        656161          340   \n",
       "4        841645         3226   \n",
       "..          ...          ...   \n",
       "65      2510674         9435   \n",
       "66      2747251         3749   \n",
       "67      2794766         3794   \n",
       "68      2801879         1494   \n",
       "69      2821111          154   \n",
       "\n",
       "                                             page_url  property_type  \\\n",
       "0   https://www.zameen.com/Property/g_10_g_10_2_gr...              1   \n",
       "1   https://www.zameen.com/Property/e_11_2_service...              1   \n",
       "2   https://www.zameen.com/Property/islamabad_g_15...              2   \n",
       "3   https://www.zameen.com/Property/islamabad_bani...              2   \n",
       "4   https://www.zameen.com/Property/dha_valley_dha...              2   \n",
       "..                                                ...            ...   \n",
       "65  https://www.zameen.com/Property/askari_10_aska...              2   \n",
       "66  https://www.zameen.com/Property/eme_society_em...              2   \n",
       "67  https://www.zameen.com/Property/gor_gor_1_five...              2   \n",
       "68  https://www.zameen.com/Property/lahore_karim_p...              2   \n",
       "69  https://www.zameen.com/Property/gulberg_zafar_...              2   \n",
       "\n",
       "        price  location  city  province_name   latitude  longitude  baths  \\\n",
       "0    10000000       466     1              1  33.679890  73.012640      2   \n",
       "1     6900000       397     1              1  33.700993  72.971492      3   \n",
       "2    16500000       471     1              1  33.631486  72.926559      6   \n",
       "3    43500000       202     1              1  33.707573  73.151199      4   \n",
       "4     7000000       335     1              1  33.492591  73.301339      3   \n",
       "..        ...       ...   ...            ...        ...        ...    ...   \n",
       "65   23000000       145     3              2  31.533161  74.419481      6   \n",
       "66   57500000       403     3              2  31.439978  74.209685      5   \n",
       "67  620000000       478     3              2  31.543431  74.344225      8   \n",
       "68    5500000       753     3              2  31.590234  74.300365      3   \n",
       "69   50000000       538     3              2  31.538420  74.352357      6   \n",
       "\n",
       "     area   purpose  bedrooms date_added    scores  anamoly  \n",
       "0     4.0  For Sale         2   2/4/2019  0.136874        1  \n",
       "1     5.6  For Sale         3   5/4/2019  0.142616        1  \n",
       "2     8.0  For Sale         5  7/17/2019  0.124937        1  \n",
       "3    20.0  For Sale         4   4/5/2019  0.054798        1  \n",
       "4    90.0  For Sale         3  7/10/2019  0.143309        1  \n",
       "..    ...       ...       ...        ...       ...      ...  \n",
       "65   26.0  For Sale         5  6/18/2019  0.116651        1  \n",
       "66   20.0  For Sale         5   4/3/2019 -0.011298       -1  \n",
       "67  120.0  For Sale         8   5/3/2019 -0.283971       -1  \n",
       "68   20.0  For Sale         3  6/11/2019  0.138930        1  \n",
       "69   40.0  For Sale         5   7/3/2019  0.020939        1  \n",
       "\n",
       "[70 rows x 17 columns]"
      ]
     },
     "execution_count": 36,
     "metadata": {},
     "output_type": "execute_result"
    }
   ],
   "source": [
    "data_pred['scores'] = outliner_detect.decision_function(data_pred[['price']])\n",
    "data_pred['anamoly'] = outliner_detect.predict(data_pred[['price']])\n",
    "data_pred.head(70)"
   ]
  },
  {
   "cell_type": "code",
   "execution_count": 37,
   "metadata": {},
   "outputs": [
    {
     "name": "stdout",
     "output_type": "stream",
     "text": [
      "        property_id  location_id  \\\n",
      "12          1623818         3300   \n",
      "17          2230469         9057   \n",
      "19          2384979          424   \n",
      "22          2651838          340   \n",
      "28          3098002         3299   \n",
      "...             ...          ...   \n",
      "120591     17356979         1447   \n",
      "120606     17357706         1454   \n",
      "120628     25982164         3338   \n",
      "120654     26097312          330   \n",
      "120659     25953665         3338   \n",
      "\n",
      "                                                 page_url  property_type  \\\n",
      "12      https://www.zameen.com/Property/f_6_f_6_2_hous...              2   \n",
      "17      https://www.zameen.com/Property/dha_defence_ph...              2   \n",
      "19      https://www.zameen.com/Property/islamabad_pwd_...              1   \n",
      "22      https://www.zameen.com/Property/islamabad_bani...              0   \n",
      "28      https://www.zameen.com/Property/f_6_f_6_1_bran...              2   \n",
      "...                                                   ...            ...   \n",
      "120591  https://www.zameen.com/Property/dha_defence_dh...              2   \n",
      "120606  https://www.zameen.com/Property/dha_defence_dh...              2   \n",
      "120628  https://www.zameen.com/Property/g_13_g_13_2_br...              2   \n",
      "120654  https://www.zameen.com/Property/islamabad_g_13...              2   \n",
      "120659  https://www.zameen.com/Property/g_13_g_13_2_45...              2   \n",
      "\n",
      "            price  location  city  province_name   latitude  longitude  baths  \\\n",
      "12      400000000       427     1              1  33.731532  73.065696      0   \n",
      "17       80000000       335     1              1  33.541728  73.094103      7   \n",
      "19        1750000      1057     1              1  33.570792  73.145256      0   \n",
      "22       88500000       202     1              1  33.713488  73.162680      3   \n",
      "28      100000000       427     1              1  33.724020  73.074524      5   \n",
      "...           ...       ...   ...            ...        ...        ...    ...   \n",
      "120591   82500000       335     3              2  31.462493  74.409342      5   \n",
      "120606  170000000       335     3              2  31.475378  74.373808      5   \n",
      "120628   65000000       469     1              0  33.648605  72.962360      8   \n",
      "120654   56000000       469     1              0  33.648605  72.962360      7   \n",
      "120659   62500000       469     1              0  33.648605  72.962360      7   \n",
      "\n",
      "        area   purpose  bedrooms  date_added    scores  anamoly  \n",
      "12      40.0  For Sale         0    7/4/2019 -0.277208       -1  \n",
      "17      20.0  For Sale         7   7/16/2019 -0.052787       -1  \n",
      "19      20.0  For Sale         0   6/13/2019 -0.006170       -1  \n",
      "22      22.0  For Sale         3    3/6/2019 -0.078659       -1  \n",
      "28      20.0  For Sale         5    1/5/2019 -0.100686       -1  \n",
      "...      ...       ...       ...         ...       ...      ...  \n",
      "120591  20.0  For Sale         5   7/18/2019 -0.075675       -1  \n",
      "120606  40.0  For Sale         5   7/18/2019 -0.165373       -1  \n",
      "120628   1.0  For Sale         7  28/11/2020 -0.007478       -1  \n",
      "120654  14.2  For Sale         6  28/11/2020 -0.000203       -1  \n",
      "120659  20.0  For Sale         6  28/11/2020 -0.014113       -1  \n",
      "\n",
      "[12010 rows x 17 columns]\n"
     ]
    }
   ],
   "source": [
    "anamoly = data_pred.loc[data_pred['anamoly'] == -1]\n",
    "anamoly_index = list(anamoly.index)\n",
    "print(anamoly)"
   ]
  },
  {
   "cell_type": "code",
   "execution_count": null,
   "metadata": {},
   "outputs": [],
   "source": [
    "data_pred = data_pred[data_pred.anamoly   == 1]"
   ]
  },
  {
   "cell_type": "code",
   "execution_count": null,
   "metadata": {},
   "outputs": [],
   "source": [
    "data_pred.head(10)"
   ]
  },
  {
   "cell_type": "code",
   "execution_count": null,
   "metadata": {},
   "outputs": [],
   "source": [
    "data_pred.shape"
   ]
  },
  {
   "cell_type": "markdown",
   "metadata": {},
   "source": [
    "## Spliting Dataset into Training and Testing "
   ]
  },
  {
   "cell_type": "markdown",
   "metadata": {},
   "source": [
    "Before starting modeling of the data, the dataset needs to be split  into training and test sets. Training sets are used to train the models while testing sets are used to cross-validate the model. Varaible X is independent consisting of 9 different features while Y is dependent variable which has price feature which needs to be predicted."
   ]
  },
  {
   "cell_type": "code",
   "execution_count": 38,
   "metadata": {},
   "outputs": [],
   "source": [
    "X = data_pred[['property_type', 'area', 'city', 'baths', 'bedrooms', 'location', 'province_name', 'latitude', 'longitude']]\n",
    "Y = data_pred['price']"
   ]
  },
  {
   "cell_type": "markdown",
   "metadata": {},
   "source": [
    "The dataset is split into two tests by using train_test_split.The Training set had 75% data and testing set has 25% data."
   ]
  },
  {
   "cell_type": "code",
   "execution_count": 39,
   "metadata": {},
   "outputs": [],
   "source": [
    "x_train, x_test,y_train,y_test = train_test_split(X,Y,test_size=.25, random_state=3)"
   ]
  },
  {
   "cell_type": "markdown",
   "metadata": {},
   "source": [
    "## ExtraTreesRegressor "
   ]
  },
  {
   "cell_type": "markdown",
   "metadata": {},
   "source": [
    "An extra-trees regressor implements a meta estimator that fits a number of randomized decision trees (a.k.a. extra-trees) on various sub-samples of the dataset and use averaging to improve the predictive accuracy and control over-fitting."
   ]
  },
  {
   "cell_type": "code",
   "execution_count": 40,
   "metadata": {},
   "outputs": [
    {
     "data": {
      "text/plain": [
       "ExtraTreesRegressor(bootstrap=False, ccp_alpha=0.0, criterion='mse',\n",
       "                    max_depth=None, max_features='auto', max_leaf_nodes=None,\n",
       "                    max_samples=None, min_impurity_decrease=0.0,\n",
       "                    min_impurity_split=None, min_samples_leaf=1,\n",
       "                    min_samples_split=2, min_weight_fraction_leaf=0.0,\n",
       "                    n_estimators=1000, n_jobs=None, oob_score=False,\n",
       "                    random_state=0, verbose=0, warm_start=False)"
      ]
     },
     "execution_count": 40,
     "metadata": {},
     "output_type": "execute_result"
    }
   ],
   "source": [
    "reg = ExtraTreesRegressor(n_estimators=1000, random_state=0)\n",
    "reg.fit(x_train, y_train) # Build a forest of trees from the training set (X, Y)"
   ]
  },
  {
   "cell_type": "code",
   "execution_count": 42,
   "metadata": {},
   "outputs": [
    {
     "name": "stdout",
     "output_type": "stream",
     "text": [
      "Accuracy/ R-squared value Training Set:   0.9782866513552708\n",
      "Accuracy/ R-squared value Testing Set:   0.7656347352112036\n"
     ]
    }
   ],
   "source": [
    "#Calculating train/test scores - R-squared value \n",
    "print(\"Accuracy/ R-squared value Training Set:  \", reg.score(x_train, y_train))\n",
    "print(\"Accuracy/ R-squared value Testing Set:  \", reg.score(x_test, y_test))"
   ]
  },
  {
   "cell_type": "markdown",
   "metadata": {},
   "source": [
    "Cross-validation is a statistical method used to estimate the skill of machine learning models.\n",
    "It is commonly used in applied machine learning to compare and select a model for a given predictive modeling problem because it is easy to understand, easy to implement, and results in skill estimates that generally have a lower bias than other methods. Here K-folds cross validation is used to compute the results."
   ]
  },
  {
   "cell_type": "code",
   "execution_count": 43,
   "metadata": {},
   "outputs": [
    {
     "name": "stdout",
     "output_type": "stream",
     "text": [
      "Cross Validation :  0.7188164062868305\n"
     ]
    }
   ],
   "source": [
    "# Calcultion of Cross Validation\n",
    "reg_cv = cross_val_score(reg,X, Y, cv = 5, scoring = 'r2')\n",
    "print(\"Cross Validation : \", reg_cv.mean())"
   ]
  },
  {
   "cell_type": "code",
   "execution_count": 44,
   "metadata": {},
   "outputs": [],
   "source": [
    "predictions_test = reg.predict(x_test)\n",
    "predictions_train = reg.predict(x_train)"
   ]
  },
  {
   "cell_type": "code",
   "execution_count": 45,
   "metadata": {},
   "outputs": [
    {
     "name": "stdout",
     "output_type": "stream",
     "text": [
      "Mean Squared Error MSE on Training set:  33580494665971.418\n",
      "Mean Squared Error MSE on Testing set:  371899054633419.44\n"
     ]
    }
   ],
   "source": [
    "# Calculation of Mean Squared Error for testing and training data\n",
    "mse_train = np.mean((predictions_train - y_train)**2)\n",
    "print(\"Mean Squared Error MSE on Training set: \", mse_train )\n",
    "\n",
    "mse_test = np.mean((predictions_test - y_test)**2)\n",
    "print(\"Mean Squared Error MSE on Testing set: \", mse_test )"
   ]
  },
  {
   "cell_type": "code",
   "execution_count": 46,
   "metadata": {},
   "outputs": [
    {
     "name": "stdout",
     "output_type": "stream",
     "text": [
      "Root-Mean-Squared-Error RMSE on Training set:  19284684.457709596\n",
      "Root-Mean-Squared-Error RMSE on Testing set:  5794867.959321729\n"
     ]
    }
   ],
   "source": [
    "# Calculate the root mean square error (RMSE) for testing and training data\n",
    "N = len(y_test)\n",
    "rmse_test = np.sqrt(np.sum((np.array(y_test).flatten() - np.array(predictions_test).flatten())**2)/N)\n",
    "print(\"Root-Mean-Squared-Error RMSE on Training set: \", rmse_test)     \n",
    "\n",
    "N = len(y_train)\n",
    "rmse_train = np.sqrt(np.sum((np.array(y_train).flatten() - np.array(predictions_train).flatten())**2)/N)\n",
    "print(\"Root-Mean-Squared-Error RMSE on Testing set: \", rmse_train)  "
   ]
  },
  {
   "cell_type": "code",
   "execution_count": 47,
   "metadata": {},
   "outputs": [
    {
     "name": "stdout",
     "output_type": "stream",
     "text": [
      "Mean-Absolute-Error MAE on Training set:  1605717.3591023944\n",
      "Mean-Absolute-Error MAE on Testing set:  5104354.183380352\n"
     ]
    }
   ],
   "source": [
    "#Calulate the Mean absolute error for testing and training data\n",
    "mae_train = mean_absolute_error(y_train, predictions_train)\n",
    "print(\"Mean-Absolute-Error MAE on Training set: \", mae_train) \n",
    "\n",
    "mae_test = mean_absolute_error(y_test, predictions_test)\n",
    "print(\"Mean-Absolute-Error MAE on Testing set: \", mae_test) \n"
   ]
  },
  {
   "cell_type": "code",
   "execution_count": 48,
   "metadata": {},
   "outputs": [
    {
     "name": "stdout",
     "output_type": "stream",
     "text": [
      "R² or Coefficient of Determination on Testing set:  0.7656347352112036\n"
     ]
    }
   ],
   "source": [
    "# calculate r2 score \n",
    "r2 = r2_score(y_test, predictions_test)\n",
    "print(\"R² or Coefficient of Determination on Testing set: \", r2) \n"
   ]
  },
  {
   "cell_type": "code",
   "execution_count": 49,
   "metadata": {},
   "outputs": [
    {
     "name": "stdout",
     "output_type": "stream",
     "text": [
      "Adjusted R² on Testing set:  0.765607543961601\n"
     ]
    }
   ],
   "source": [
    "# adjusted r2 using formula adj_r2 = 1 - (1- r2) * (n-1) / (n - k - 1)\n",
    "# k = number of predictors = data.shape[1] - 1\n",
    "adj_r2 = 1 - (1-r2)*(len(data) - 1) / (len(data) - (data.shape[1] - 1) - 1)\n",
    "print(\"Adjusted R² on Testing set: \", adj_r2)"
   ]
  },
  {
   "cell_type": "code",
   "execution_count": 50,
   "metadata": {},
   "outputs": [
    {
     "data": {
      "image/png": "[encoded data removed]",
      "text/plain": [
       "<Figure size 432x288 with 1 Axes>"
      ]
     },
     "metadata": {
      "needs_background": "light"
     },
     "output_type": "display_data"
    }
   ],
   "source": [
    "# Plot residuals\n",
    "plt.scatter(predictions_train, predictions_train - y_train, c = \"blue\", marker = \"s\", label = \"Training data\")\n",
    "plt.scatter(predictions_test, predictions_test - y_test, c = \"lightgreen\", marker = \"s\", label = \"Validation data\")\n",
    "plt.title(\"Linear regression\")\n",
    "plt.xlabel(\"Predicted values\")\n",
    "plt.ylabel(\"Residuals\")\n",
    "plt.legend(loc = \"upper left\")\n",
    "#plt.hlines(y = 0, xmin, xmax, color = \"red\")\n",
    "plt.show()"
   ]
  },
  {
   "cell_type": "code",
   "execution_count": 51,
   "metadata": {},
   "outputs": [
    {
     "data": {
      "image/png": "[encoded data removed]",
      "text/plain": [
       "<Figure size 432x288 with 1 Axes>"
      ]
     },
     "metadata": {
      "needs_background": "light"
     },
     "output_type": "display_data"
    }
   ],
   "source": [
    "# Plot predictions\n",
    "plt.scatter(predictions_train, y_train, c = \"blue\", marker = \"s\", label = \"Training data\")\n",
    "plt.scatter(predictions_test, y_test, c = \"lightgreen\", marker = \"s\", label = \"Validation data\")\n",
    "plt.title(\"Linear regression\")\n",
    "plt.xlabel(\"Predicted values\")\n",
    "plt.ylabel(\"Real values\")\n",
    "plt.legend(loc = \"upper left\")\n",
    "plt.plot([0.00, 2.00], [0.00, 2.00], c = \"red\")\n",
    "plt.show()"
   ]
  },
  {
   "cell_type": "code",
   "execution_count": null,
   "metadata": {},
   "outputs": [],
   "source": [
    "plt.scatter(y_test, predictions_test)\n",
    "plt.plot(range(999999999), range(999999999))\n",
    "\n",
    "plt.xlabel(\"Prices: $Y_i$\")\n",
    "plt.ylabel(\"Predicted prices: $\\hat{Y}_i$\")\n",
    "plt.title(\"Actual Rent vs Predicted Rent\")\n",
    "\n",
    "plt.show()"
   ]
  },
  {
   "cell_type": "code",
   "execution_count": 52,
   "metadata": {},
   "outputs": [
    {
     "data": {
      "image/png": "[encoded data removed]",
      "text/plain": [
       "<Figure size 2160x720 with 9 Axes>"
      ]
     },
     "metadata": {
      "needs_background": "light"
     },
     "output_type": "display_data"
    }
   ],
   "source": [
    "# Ploting Scatter plots for model for different features of Housing dataset\n",
    "fig, axes = plt.subplots(1,len(X.columns.values),sharey=True,constrained_layout=False,figsize=(30,10))\n",
    "\n",
    "for i,e in enumerate(X.columns): \n",
    "  reg.fit(X[e].values[:,np.newaxis], Y.values)\n",
    "  axes[i].set_title(\"Best fit line\")\n",
    "  axes[i].set_xlabel(str(e))\n",
    "  axes[i].set_ylabel('Price')\n",
    "  axes[i].scatter(X[e].values[:,np.newaxis], Y,color='g')\n",
    "  axes[i].plot(X[e].values[:,np.newaxis], \n",
    "  reg.predict(X[e].values[:,np.newaxis]),color='k')"
   ]
  },
  {
   "cell_type": "markdown",
   "metadata": {},
   "source": [
    "## Random Forest"
   ]
  },
  {
   "cell_type": "markdown",
   "metadata": {},
   "source": [
    "A random forest is a meta estimator that fits a number of classifying decision trees on various sub-samples of the dataset and uses averaging to improve the predictive accuracy and control over-fitting. The sub-sample size is controlled with the max_samples parameter if bootstrap=True (default), otherwise the whole dataset is used to build each tree."
   ]
  },
  {
   "cell_type": "code",
   "execution_count": 53,
   "metadata": {},
   "outputs": [
    {
     "data": {
      "text/plain": [
       "RandomForestRegressor(bootstrap=True, ccp_alpha=0.0, criterion='mse',\n",
       "                      max_depth=None, max_features='auto', max_leaf_nodes=None,\n",
       "                      max_samples=None, min_impurity_decrease=0.0,\n",
       "                      min_impurity_split=None, min_samples_leaf=1,\n",
       "                      min_samples_split=2, min_weight_fraction_leaf=0.0,\n",
       "                      n_estimators=100, n_jobs=None, oob_score=False,\n",
       "                      random_state=None, verbose=0, warm_start=False)"
      ]
     },
     "execution_count": 53,
     "metadata": {},
     "output_type": "execute_result"
    }
   ],
   "source": [
    "rfr = RandomForestRegressor()\n",
    "rfr.fit(x_train, y_train) #Build a forest of trees from the training set (X, y).\n"
   ]
  },
  {
   "cell_type": "code",
   "execution_count": 54,
   "metadata": {},
   "outputs": [
    {
     "name": "stdout",
     "output_type": "stream",
     "text": [
      "Accuracy/ R-squared value Training Set:   0.9448345913693199\n",
      "Accuracy/ R-squared value Testing Set:   0.7448683124824355\n"
     ]
    }
   ],
   "source": [
    "#Calculating train/test scores - R-squared value \n",
    "print(\"Accuracy/ R-squared value Training Set:  \", rfr.score(x_train, y_train))\n",
    "print(\"Accuracy/ R-squared value Testing Set:  \", rfr.score(x_test, y_test))"
   ]
  },
  {
   "cell_type": "code",
   "execution_count": 55,
   "metadata": {},
   "outputs": [
    {
     "name": "stdout",
     "output_type": "stream",
     "text": [
      "Cross Validation:  0.6937091427913602\n"
     ]
    }
   ],
   "source": [
    "# Calcultion of Cross Validation\n",
    "rfr_cv = cross_val_score(rfr,X, Y, cv = 5, scoring = 'r2')\n",
    "print(\"Cross Validation: \", rfr_cv.mean())"
   ]
  },
  {
   "cell_type": "code",
   "execution_count": 56,
   "metadata": {},
   "outputs": [
    {
     "data": {
      "text/plain": [
       "array([0.02706604, 0.48413933, 0.00341601, 0.02960365, 0.06838997,\n",
       "       0.03779376, 0.00065319, 0.20101712, 0.14792092])"
      ]
     },
     "execution_count": 56,
     "metadata": {},
     "output_type": "execute_result"
    }
   ],
   "source": [
    "# Random forest determined feature importances\n",
    "rfr.feature_importances_"
   ]
  },
  {
   "cell_type": "code",
   "execution_count": 57,
   "metadata": {},
   "outputs": [
    {
     "name": "stdout",
     "output_type": "stream",
     "text": [
      "['area', 'latitude', 'longitude', 'bedrooms', 'location', 'baths', 'property_type', 'city', 'province_name']\n"
     ]
    }
   ],
   "source": [
    "importance = rfr.feature_importances_\n",
    "\n",
    "# map feature importance values to the features\n",
    "feature_importances = zip(importance, X.columns)\n",
    "#list(feature_importances)\n",
    "\n",
    "sorted_feature_importances = sorted(feature_importances, reverse = True)\n",
    "#print(sorted_feature_importances)\n",
    "\n",
    "top_15_predictors = sorted_feature_importances[0:15]\n",
    "values = [value for value, predictors in top_15_predictors]\n",
    "predictors = [predictors for value, predictors in top_15_predictors]\n",
    "print(predictors)"
   ]
  },
  {
   "cell_type": "code",
   "execution_count": 58,
   "metadata": {},
   "outputs": [
    {
     "data": {
      "image/png": "[encoded data removed]",
      "text/plain": [
       "<Figure size 432x288 with 1 Axes>"
      ]
     },
     "metadata": {
      "needs_background": "light"
     },
     "output_type": "display_data"
    }
   ],
   "source": [
    "# Plot the feature importances of the forest\n",
    "plt.figure()\n",
    "plt.title(\"Feature importances\")\n",
    "plt.bar(range(len(predictors)), values,color=\"r\", align=\"center\");\n",
    "plt.xticks(range(len(predictors)), predictors, rotation=90);"
   ]
  },
  {
   "cell_type": "code",
   "execution_count": 59,
   "metadata": {},
   "outputs": [],
   "source": [
    "predictions_test = rfr.predict(x_test)\n",
    "predictions_train = rfr.predict(x_train)"
   ]
  },
  {
   "cell_type": "code",
   "execution_count": 60,
   "metadata": {},
   "outputs": [
    {
     "name": "stdout",
     "output_type": "stream",
     "text": [
      "Mean Squared Error MSE on Training set:  85315339452190.81\n",
      "Mean Squared Error MSE on Testing set:  404851945446439.0\n"
     ]
    }
   ],
   "source": [
    "# Calculate the Mean Squared Error for testing and training data\n",
    "mse_train = np.mean((predictions_train - y_train)**2)\n",
    "print(\"Mean Squared Error MSE on Training set: \", mse_train )\n",
    "\n",
    "mse_test = np.mean((predictions_test - y_test)**2)\n",
    "print(\"Mean Squared Error MSE on Testing set: \", mse_test )"
   ]
  },
  {
   "cell_type": "code",
   "execution_count": 61,
   "metadata": {},
   "outputs": [
    {
     "name": "stdout",
     "output_type": "stream",
     "text": [
      "Root-Mean-Squared-Error RMSE on Training set:  20120933.016300067\n",
      "Root-Mean-Squared-Error RMSE on Testing set:  9236630.30829909\n"
     ]
    }
   ],
   "source": [
    "# Calculate the root mean square error (RMSE) for testing and training data\n",
    "N = len(y_test)\n",
    "rmse_test = np.sqrt(np.sum((np.array(y_test).flatten() - np.array(predictions_test).flatten())**2)/N)\n",
    "print(\"Root-Mean-Squared-Error RMSE on Training set: \", rmse_test)     \n",
    "\n",
    "N = len(y_train)\n",
    "rmse_train = np.sqrt(np.sum((np.array(y_train).flatten() - np.array(predictions_train).flatten())**2)/N)\n",
    "print(\"Root-Mean-Squared-Error RMSE on Testing set: \", rmse_train)  \n"
   ]
  },
  {
   "cell_type": "code",
   "execution_count": 62,
   "metadata": {},
   "outputs": [
    {
     "name": "stdout",
     "output_type": "stream",
     "text": [
      "Mean-Absolute-Error MAE on Training set:  2784106.1956508774\n",
      "Mean-Absolute-Error MAE on Testing set:  5163255.661527236\n"
     ]
    }
   ],
   "source": [
    "# Calculate the mean absoulte error for testing and training data\n",
    "mae_train = mean_absolute_error(y_train, predictions_train)\n",
    "print(\"Mean-Absolute-Error MAE on Training set: \", mae_train) \n",
    "\n",
    "mae_test = mean_absolute_error(y_test, predictions_test)\n",
    "print(\"Mean-Absolute-Error MAE on Testing set: \", mae_test) \n"
   ]
  },
  {
   "cell_type": "code",
   "execution_count": 63,
   "metadata": {},
   "outputs": [
    {
     "name": "stdout",
     "output_type": "stream",
     "text": [
      "R² or Coefficient of Determination on Testing set:  0.7448683124824355\n"
     ]
    }
   ],
   "source": [
    "# calculate r2 score for testing and training data\n",
    "r2 = r2_score(y_test, predictions_test)\n",
    "print(\"R² or Coefficient of Determination on Testing set: \", r2) "
   ]
  },
  {
   "cell_type": "code",
   "execution_count": 64,
   "metadata": {},
   "outputs": [
    {
     "name": "stdout",
     "output_type": "stream",
     "text": [
      "Adjusted R² on Testing set:  0.7448387118954924\n"
     ]
    }
   ],
   "source": [
    "# adjusted r2 using formula adj_r2 = 1 - (1- r2) * (n-1) / (n - k - 1)\n",
    "# k = number of predictors = data.shape[1] - 1\n",
    "adj_r2 = 1 - (1-r2)*(len(data) - 1) / (len(data) - (data.shape[1] - 1) - 1)\n",
    "print(\"Adjusted R² on Testing set: \", adj_r2)"
   ]
  },
  {
   "cell_type": "code",
   "execution_count": 65,
   "metadata": {},
   "outputs": [
    {
     "data": {
      "image/png": "[encoded data removed]",
      "text/plain": [
       "<Figure size 2160x720 with 9 Axes>"
      ]
     },
     "metadata": {
      "needs_background": "light"
     },
     "output_type": "display_data"
    }
   ],
   "source": [
    "# Ploting scatter plots for different features against price of the house prediction data set\n",
    "fig, axes = plt.subplots(1,len(X.columns.values),sharey=True,constrained_layout=False,figsize=(30,10))\n",
    "\n",
    "for i,e in enumerate(X.columns):\n",
    "  rfr.fit(X[e].values[:,np.newaxis], Y.values)\n",
    "  axes[i].set_title(\"Best fit line\")\n",
    "  axes[i].set_xlabel(str(e))\n",
    "  axes[i].set_ylabel('Price')\n",
    "  axes[i].scatter(X[e].values[:,np.newaxis], Y,color='g')\n",
    "  axes[i].plot(X[e].values[:,np.newaxis], \n",
    "  rfr.predict(X[e].values[:,np.newaxis]),color='k')"
   ]
  },
  {
   "cell_type": "markdown",
   "metadata": {},
   "source": [
    "##  GradientBoostingRegressor"
   ]
  },
  {
   "cell_type": "markdown",
   "metadata": {},
   "source": [
    "Gradient Boosting for regression builds an additive model in a forward stage-wise fashion; it allows for the optimization of arbitrary differentiable loss functions. In each stage a regression tree is fit on the negative gradient of the given loss function. The features are always randomly permuted at each split. Therefore, the best found split may vary, even with the same training data and max_features=n_features, if the improvement of the criterion is identical for several splits enumerated during the search of the best split. To obtain a deterministic behaviour during fitting, random_state has to be fixed."
   ]
  },
  {
   "cell_type": "code",
   "execution_count": 66,
   "metadata": {},
   "outputs": [
    {
     "data": {
      "text/plain": [
       "GradientBoostingRegressor(alpha=0.9, ccp_alpha=0.0, criterion='friedman_mse',\n",
       "                          init=None, learning_rate=0.1, loss='ls', max_depth=3,\n",
       "                          max_features=None, max_leaf_nodes=None,\n",
       "                          min_impurity_decrease=0.0, min_impurity_split=None,\n",
       "                          min_samples_leaf=1, min_samples_split=2,\n",
       "                          min_weight_fraction_leaf=0.0, n_estimators=100,\n",
       "                          n_iter_no_change=None, presort='deprecated',\n",
       "                          random_state=None, subsample=1.0, tol=0.0001,\n",
       "                          validation_fraction=0.1, verbose=0, warm_start=False)"
      ]
     },
     "execution_count": 66,
     "metadata": {},
     "output_type": "execute_result"
    }
   ],
   "source": [
    "model = ensemble.GradientBoostingRegressor()\n",
    "model.fit(x_train, y_train) # Fit the gradient boosting model"
   ]
  },
  {
   "cell_type": "code",
   "execution_count": 67,
   "metadata": {},
   "outputs": [
    {
     "name": "stdout",
     "output_type": "stream",
     "text": [
      "Accuracy/ R-squared value Training Set:   0.6866646777670229\n",
      "Accuracy/ R-squared value Testing Set:   0.6535135618640908\n"
     ]
    }
   ],
   "source": [
    " #Calculating train/test scores - R-squared value \n",
    "print(\"Accuracy/ R-squared value Training Set:  \", model.score(x_train, y_train))\n",
    "print(\"Accuracy/ R-squared value Testing Set:  \", model.score(x_test, y_test))"
   ]
  },
  {
   "cell_type": "code",
   "execution_count": 68,
   "metadata": {},
   "outputs": [
    {
     "name": "stdout",
     "output_type": "stream",
     "text": [
      "R2:  0.6320942018429146\n"
     ]
    }
   ],
   "source": [
    "# Cross Validation on testing set\n",
    "model_cv = cross_val_score(model,X, Y, cv = 5, scoring = 'r2')\n",
    "print(\"R2: \", model_cv.mean())"
   ]
  },
  {
   "cell_type": "code",
   "execution_count": 69,
   "metadata": {},
   "outputs": [],
   "source": [
    "predictions_test = model.predict(x_test)\n",
    "predictions_train = model.predict(x_train)"
   ]
  },
  {
   "cell_type": "code",
   "execution_count": 70,
   "metadata": {},
   "outputs": [
    {
     "name": "stdout",
     "output_type": "stream",
     "text": [
      "Mean Squared Error MSE on Training set:  484584634505909.94\n",
      "Mean Squared Error MSE on Testing set:  549816880509879.7\n"
     ]
    }
   ],
   "source": [
    "# Calculate Mean Squared error for testing and training data\n",
    "mse_train = np.mean((predictions_train - y_train)**2)\n",
    "print(\"Mean Squared Error MSE on Training set: \", mse_train )\n",
    "\n",
    "mse_test = np.mean((predictions_test - y_test)**2)\n",
    "print(\"Mean Squared Error MSE on Testing set: \", mse_test )\n"
   ]
  },
  {
   "cell_type": "code",
   "execution_count": 71,
   "metadata": {},
   "outputs": [
    {
     "name": "stdout",
     "output_type": "stream",
     "text": [
      "Root-Mean-Squared-Error RMSE on Training set:  23448174.353451878\n",
      "Root-Mean-Squared-Error RMSE on Testing set:  22013283.137821943\n"
     ]
    }
   ],
   "source": [
    "# Calculate the root mean square error (RMSE) for testing and training data\n",
    "N = len(y_test)\n",
    "rmse_test = np.sqrt(np.sum((np.array(y_test).flatten() - np.array(predictions_test).flatten())**2)/N)\n",
    "print(\"Root-Mean-Squared-Error RMSE on Training set: \", rmse_test)     \n",
    "\n",
    "N = len(y_train)\n",
    "rmse_train = np.sqrt(np.sum((np.array(y_train).flatten() - np.array(predictions_train).flatten())**2)/N)\n",
    "print(\"Root-Mean-Squared-Error RMSE on Testing set: \", rmse_train)  \n"
   ]
  },
  {
   "cell_type": "code",
   "execution_count": 72,
   "metadata": {},
   "outputs": [
    {
     "name": "stdout",
     "output_type": "stream",
     "text": [
      "Mean-Absolute-Error MAE on Training set:  8092705.372944575\n",
      "Mean-Absolute-Error MAE on Testing set:  8332162.070644314\n"
     ]
    }
   ],
   "source": [
    "# Calculate the mean absolute error for testing and training data\n",
    "mae_train = mean_absolute_error(y_train, predictions_train)\n",
    "print(\"Mean-Absolute-Error MAE on Training set: \", mae_train) \n",
    "\n",
    "mae_test = mean_absolute_error(y_test, predictions_test)\n",
    "print(\"Mean-Absolute-Error MAE on Testing set: \", mae_test) "
   ]
  },
  {
   "cell_type": "code",
   "execution_count": 73,
   "metadata": {},
   "outputs": [
    {
     "name": "stdout",
     "output_type": "stream",
     "text": [
      "R² or Coefficient of Determination on Testing set:  0.6535135618640908\n"
     ]
    }
   ],
   "source": [
    "# calculate r2 score\n",
    "r2 = r2_score(y_test, predictions_test)\n",
    "print(\"R² or Coefficient of Determination on Testing set: \", r2) "
   ]
  },
  {
   "cell_type": "code",
   "execution_count": 74,
   "metadata": {},
   "outputs": [
    {
     "name": "stdout",
     "output_type": "stream",
     "text": [
      "Adjusted R² on Testing set:  0.6534733622243032\n"
     ]
    }
   ],
   "source": [
    "# adjusted r2 using formula adj_r2 = 1 - (1- r2) * (n-1) / (n - k - 1)\n",
    "# k = number of predictors = data.shape[1] - 1\n",
    "adj_r2 = 1 - (1-r2)*(len(data) - 1) / (len(data) - (data.shape[1] - 1) - 1)\n",
    "print(\"Adjusted R² on Testing set: \", adj_r2)"
   ]
  },
  {
   "cell_type": "code",
   "execution_count": 75,
   "metadata": {},
   "outputs": [
    {
     "data": {
      "image/png": "[encoded data removed]",
      "text/plain": [
       "<Figure size 2160x720 with 9 Axes>"
      ]
     },
     "metadata": {
      "needs_background": "light"
     },
     "output_type": "display_data"
    }
   ],
   "source": [
    "# Plotting Scatters plots for differnt features against price of the dataset\n",
    "fig, axes = plt.subplots(1,len(X.columns.values),sharey=True,constrained_layout=False,figsize=(30,10))\n",
    "\n",
    "for i,e in enumerate(X.columns):\n",
    "  model.fit(X[e].values[:,np.newaxis], Y.values)\n",
    "  axes[i].set_title(\"Best fit line\")\n",
    "  axes[i].set_xlabel(str(e))\n",
    "  axes[i].set_ylabel('Price')\n",
    "  axes[i].scatter(X[e].values[:,np.newaxis], Y,color='g')\n",
    "  axes[i].plot(X[e].values[:,np.newaxis], \n",
    "  model.predict(X[e].values[:,np.newaxis]),color='k')"
   ]
  },
  {
   "cell_type": "markdown",
   "metadata": {},
   "source": [
    "## Linear Regression "
   ]
  },
  {
   "cell_type": "markdown",
   "metadata": {},
   "source": [
    "Linear Regression is a supervised machine learning algorithm where the predicted output is continuous and has a constant slope. It’s used to predict values within a continuous range.LinearRegression fits a linear model with coefficients w = (w1, …, wp) to minimize the residual sum of squares between the observed targets in the dataset, and the targets predicted by the linear approximation."
   ]
  },
  {
   "cell_type": "code",
   "execution_count": 77,
   "metadata": {},
   "outputs": [],
   "source": [
    " lin_reg = LinearRegression()"
   ]
  },
  {
   "cell_type": "code",
   "execution_count": 78,
   "metadata": {},
   "outputs": [
    {
     "data": {
      "text/plain": [
       "LinearRegression(copy_X=True, fit_intercept=True, n_jobs=None, normalize=False)"
      ]
     },
     "execution_count": 78,
     "metadata": {},
     "output_type": "execute_result"
    }
   ],
   "source": [
    " lin_reg.fit(x_train,y_train) # Fit linear model"
   ]
  },
  {
   "cell_type": "code",
   "execution_count": 79,
   "metadata": {},
   "outputs": [
    {
     "name": "stdout",
     "output_type": "stream",
     "text": [
      "Accuracy/ R-squared value Training Set:   0.16054868122334798\n",
      "Accuracy/ R-squared value Testing Set:   0.17106412890600053\n"
     ]
    }
   ],
   "source": [
    "#Calculating train/test scores - R-squared value \n",
    "print(\"Accuracy/ R-squared value Training Set:  \", lin_reg.score(x_train, y_train))\n",
    "print(\"Accuracy/ R-squared value Testing Set:  \", lin_reg.score(x_test, y_test))"
   ]
  },
  {
   "cell_type": "code",
   "execution_count": 80,
   "metadata": {},
   "outputs": [
    {
     "name": "stdout",
     "output_type": "stream",
     "text": [
      "Cross-validation results:  0.15809970964116746\n"
     ]
    }
   ],
   "source": [
    "lin_reg_cv = cross_val_score(lin_reg,X, Y, cv = 5, scoring = 'r2')\n",
    "print(\"Cross-validation results: \", lin_reg_cv.mean())"
   ]
  },
  {
   "cell_type": "code",
   "execution_count": 81,
   "metadata": {},
   "outputs": [],
   "source": [
    "#Predict using the linear model for testing and training data\n",
    "predictions_test = lin_reg.predict(x_test)\n",
    "predictions_train = lin_reg.predict(x_train)"
   ]
  },
  {
   "cell_type": "code",
   "execution_count": 82,
   "metadata": {
    "scrolled": true
   },
   "outputs": [
    {
     "name": "stdout",
     "output_type": "stream",
     "text": [
      "Mean Squared Error MSE on Training set:  1298242431130790.0\n",
      "Mean Squared Error MSE on Testing set:  1315384628730742.5\n"
     ]
    }
   ],
   "source": [
    "# Calculate mean squared error for testing and training dat\n",
    "mse_train = np.mean((predictions_train - y_train)**2)\n",
    "print(\"Mean Squared Error MSE on Training set: \", mse_train )\n",
    "\n",
    "mse_test = np.mean((predictions_test - y_test)**2)\n",
    "print(\"Mean Squared Error MSE on Testing set: \", mse_test )\n"
   ]
  },
  {
   "cell_type": "code",
   "execution_count": 83,
   "metadata": {},
   "outputs": [
    {
     "name": "stdout",
     "output_type": "stream",
     "text": [
      "Root-Mean-Squared-Error RMSE on Training set:  36268231.67361135\n",
      "Root-Mean-Squared-Error RMSE on Testing set:  36031131.41619065\n"
     ]
    }
   ],
   "source": [
    "# Calculate the root mean square error (RMSE) for testing and training data\n",
    "N = len(y_test)\n",
    "rmse_test = np.sqrt(np.sum((np.array(y_test).flatten() - np.array(predictions_test).flatten())**2)/N)\n",
    "print(\"Root-Mean-Squared-Error RMSE on Training set: \", rmse_test)     \n",
    "\n",
    "N = len(y_train)\n",
    "rmse_train = np.sqrt(np.sum((np.array(y_train).flatten() - np.array(predictions_train).flatten())**2)/N)\n",
    "print(\"Root-Mean-Squared-Error RMSE on Testing set: \", rmse_train)"
   ]
  },
  {
   "cell_type": "code",
   "execution_count": 84,
   "metadata": {},
   "outputs": [
    {
     "name": "stdout",
     "output_type": "stream",
     "text": [
      "Mean-Absolute-Error MAE on Training set:  17425921.06069399\n",
      "Mean-Absolute-Error MAE on Testing set:  17471210.754301466\n"
     ]
    }
   ],
   "source": [
    "# Calculate the mean absoute error for testing and training dat\n",
    "mae_train = mean_absolute_error(y_train, predictions_train)\n",
    "print(\"Mean-Absolute-Error MAE on Training set: \", mae_train) \n",
    "\n",
    "mae_test = mean_absolute_error(y_test, predictions_test)\n",
    "print(\"Mean-Absolute-Error MAE on Testing set: \", mae_test) "
   ]
  },
  {
   "cell_type": "code",
   "execution_count": 85,
   "metadata": {},
   "outputs": [
    {
     "name": "stdout",
     "output_type": "stream",
     "text": [
      "R² or Coefficient of Determination on Testing set:  0.17106412890600053\n"
     ]
    }
   ],
   "source": [
    "# calculate r2 score\n",
    "r2 = r2_score(y_test, predictions_test)\n",
    "print(\"R² or Coefficient of Determination on Testing set: \", r2) "
   ]
  },
  {
   "cell_type": "code",
   "execution_count": 86,
   "metadata": {},
   "outputs": [
    {
     "name": "stdout",
     "output_type": "stream",
     "text": [
      "Adjusted R² on Testing set:  0.17096795508862295\n"
     ]
    }
   ],
   "source": [
    "# adjusted r2 using formula adj_r2 = 1 - (1- r2) * (n-1) / (n - k - 1)\n",
    "# k = number of predictors = data.shape[1] - 1\n",
    "adj_r2 = 1 - (1-r2)*(len(data) - 1) / (len(data) - (data.shape[1] - 1) - 1)\n",
    "print(\"Adjusted R² on Testing set: \", adj_r2)"
   ]
  },
  {
   "cell_type": "code",
   "execution_count": 87,
   "metadata": {},
   "outputs": [
    {
     "data": {
      "image/png": "[encoded data removed]",
      "text/plain": [
       "<Figure size 2160x720 with 9 Axes>"
      ]
     },
     "metadata": {
      "needs_background": "light"
     },
     "output_type": "display_data"
    }
   ],
   "source": [
    "# Plotting scatters plots for different features against price for housing dataset\n",
    "fig, axes = plt.subplots(1,len(X.columns.values),sharey=True,constrained_layout=False,figsize=(30,10))\n",
    "\n",
    "for i,e in enumerate(X.columns):\n",
    "  lin_reg.fit(X[e].values[:,np.newaxis], Y.values)\n",
    "  axes[i].set_title(\"Best fit line\")\n",
    "  axes[i].set_xlabel(str(e))\n",
    "  axes[i].set_ylabel('Price')\n",
    "  axes[i].scatter(X[e].values[:,np.newaxis], Y,color='g')\n",
    "  axes[i].plot(X[e].values[:,np.newaxis], \n",
    "  lin_reg.predict(X[e].values[:,np.newaxis]),color='k')"
   ]
  },
  {
   "cell_type": "markdown",
   "metadata": {},
   "source": [
    "## Ridge Regression "
   ]
  },
  {
   "cell_type": "markdown",
   "metadata": {},
   "source": [
    "The alpha parameter in ridge and lasso regularizes the regression model. The regression algorithms with regularization differ from linear regression in that they try to penalize those features that are not significant in our prediction. Ridge will try to reduce their effects (i.e., shrink their coeffients) in order to optimize all the input features. Lasso will try to remove the not-significant features by making their coefficients zero. In short, Lasso (L1 regularization) can eliminate the not-significant features, thus performing feature selection while Ridge (L2 regularization) cannot."
   ]
  },
  {
   "cell_type": "code",
   "execution_count": 88,
   "metadata": {
    "scrolled": true
   },
   "outputs": [
    {
     "data": {
      "text/plain": [
       "Ridge(alpha=1, copy_X=True, fit_intercept=True, max_iter=None, normalize=False,\n",
       "      random_state=None, solver='auto', tol=0.001)"
      ]
     },
     "execution_count": 88,
     "metadata": {},
     "output_type": "execute_result"
    }
   ],
   "source": [
    "ridge = Ridge(alpha = 1)  # sets alpha to a default value as baseline  \n",
    "ridge.fit(x_train, y_train)"
   ]
  },
  {
   "cell_type": "code",
   "execution_count": 89,
   "metadata": {},
   "outputs": [
    {
     "name": "stdout",
     "output_type": "stream",
     "text": [
      "Accuracy/ R-squared value Training Set:   0.16054868083355933\n",
      "Accuracy/ R-squared value Testing Set:   0.1710643237367565\n"
     ]
    }
   ],
   "source": [
    "#Calculating train/test scores - R-squared value \n",
    "print(\"Accuracy/ R-squared value Training Set:  \", ridge.score(x_train, y_train))\n",
    "print(\"Accuracy/ R-squared value Testing Set:  \", ridge.score(x_test, y_test))"
   ]
  },
  {
   "cell_type": "code",
   "execution_count": 90,
   "metadata": {},
   "outputs": [
    {
     "name": "stdout",
     "output_type": "stream",
     "text": [
      "Cross-validation results:  [0.13542337 0.15273151 0.16042735 0.16470243 0.1772164 ]\n",
      "R2:  0.15810021232362023\n"
     ]
    }
   ],
   "source": [
    "# Calculation of Cross Validation\n",
    "ridge_cv = cross_val_score(ridge, X, Y, cv = 5, scoring = 'r2')\n",
    "print (\"Cross-validation results: \", ridge_cv)\n",
    "print (\"R2: \", ridge_cv.mean())"
   ]
  },
  {
   "cell_type": "code",
   "execution_count": 91,
   "metadata": {},
   "outputs": [],
   "source": [
    "predictions_test = ridge.predict(x_test)\n",
    "predictions_train = ridge.predict(x_train)"
   ]
  },
  {
   "cell_type": "code",
   "execution_count": 92,
   "metadata": {},
   "outputs": [
    {
     "name": "stdout",
     "output_type": "stream",
     "text": [
      "Mean Squared Error MSE on Training set:  1298242431733607.8\n",
      "Mean Squared Error MSE on Testing set:  1315384319566442.8\n"
     ]
    }
   ],
   "source": [
    "# Calculation of Mean Squared Error for testing and training data\n",
    "mse_train = np.mean((predictions_train - y_train)**2)\n",
    "print(\"Mean Squared Error MSE on Training set: \", mse_train )\n",
    "\n",
    "mse_test = np.mean((predictions_test - y_test)**2)\n",
    "print(\"Mean Squared Error MSE on Testing set: \", mse_test )\n"
   ]
  },
  {
   "cell_type": "code",
   "execution_count": 93,
   "metadata": {},
   "outputs": [
    {
     "name": "stdout",
     "output_type": "stream",
     "text": [
      "Root-Mean-Squared-Error RMSE on Training set:  36268227.41141951\n",
      "Root-Mean-Squared-Error RMSE on Testing set:  36031131.42455594\n"
     ]
    }
   ],
   "source": [
    "# Calculate the root mean square error (RMSE) for testing and training data\n",
    "N = len(y_test)\n",
    "rmse_test = np.sqrt(np.sum((np.array(y_test).flatten() - np.array(predictions_test).flatten())**2)/N)\n",
    "print(\"Root-Mean-Squared-Error RMSE on Training set: \", rmse_test)     \n",
    "\n",
    "N = len(y_train)\n",
    "rmse_train = np.sqrt(np.sum((np.array(y_train).flatten() - np.array(predictions_train).flatten())**2)/N)\n",
    "print(\"Root-Mean-Squared-Error RMSE on Testing set: \", rmse_train)"
   ]
  },
  {
   "cell_type": "code",
   "execution_count": 94,
   "metadata": {},
   "outputs": [
    {
     "name": "stdout",
     "output_type": "stream",
     "text": [
      "Mean-Absolute-Error MAE on Training set:  17425852.123854153\n",
      "Mean-Absolute-Error MAE on Testing set:  17471142.28901356\n"
     ]
    }
   ],
   "source": [
    "# Calculate mean absolute error for testing and training data\n",
    "mae_train = mean_absolute_error(y_train, predictions_train)\n",
    "print(\"Mean-Absolute-Error MAE on Training set: \", mae_train) \n",
    "\n",
    "mae_test = mean_absolute_error(y_test, predictions_test)\n",
    "print(\"Mean-Absolute-Error MAE on Testing set: \", mae_test) "
   ]
  },
  {
   "cell_type": "code",
   "execution_count": 95,
   "metadata": {},
   "outputs": [
    {
     "name": "stdout",
     "output_type": "stream",
     "text": [
      "R² or Coefficient of Determination on Testing set:  0.1710643237367565\n"
     ]
    }
   ],
   "source": [
    "# calculate r2 score\n",
    "r2 = r2_score(y_test, predictions_test)\n",
    "print(\"R² or Coefficient of Determination on Testing set: \", r2) "
   ]
  },
  {
   "cell_type": "code",
   "execution_count": 96,
   "metadata": {},
   "outputs": [
    {
     "name": "stdout",
     "output_type": "stream",
     "text": [
      "Adjusted R² on Testing set:  0.1709681499419834\n"
     ]
    }
   ],
   "source": [
    "# adjusted r2 using formula adj_r2 = 1 - (1- r2) * (n-1) / (n - k - 1)\n",
    "# k = number of predictors = data.shape[1] - 1\n",
    "adj_r2 = 1 - (1-r2)*(len(data) - 1) / (len(data) - (data.shape[1] - 1) - 1)\n",
    "print(\"Adjusted R² on Testing set: \", adj_r2)"
   ]
  },
  {
   "cell_type": "code",
   "execution_count": 97,
   "metadata": {},
   "outputs": [
    {
     "data": {
      "image/png": "[encoded data removed]",
      "text/plain": [
       "<Figure size 2160x720 with 9 Axes>"
      ]
     },
     "metadata": {
      "needs_background": "light"
     },
     "output_type": "display_data"
    }
   ],
   "source": [
    "# Plotting scatter plots for different features against price for housing dataset\n",
    "fig, axes = plt.subplots(1,len(X.columns.values),sharey=True,constrained_layout=False,figsize=(30,10))\n",
    "\n",
    "for i,e in enumerate(X.columns):\n",
    "  ridge.fit(X[e].values[:,np.newaxis], Y.values)\n",
    "  axes[i].set_title(\"Best fit line\")\n",
    "  axes[i].set_xlabel(str(e))\n",
    "  axes[i].set_ylabel('Price')\n",
    "  axes[i].scatter(X[e].values[:,np.newaxis], Y,color='g')\n",
    "  axes[i].plot(X[e].values[:,np.newaxis], \n",
    "  ridge.predict(X[e].values[:,np.newaxis]),color='k')"
   ]
  },
  {
   "cell_type": "markdown",
   "metadata": {},
   "source": [
    "## Lasso Regression "
   ]
  },
  {
   "cell_type": "code",
   "execution_count": 98,
   "metadata": {},
   "outputs": [
    {
     "data": {
      "text/plain": [
       "Lasso(alpha=0.001, copy_X=True, fit_intercept=True, max_iter=1000,\n",
       "      normalize=False, positive=False, precompute=False, random_state=None,\n",
       "      selection='cyclic', tol=0.0001, warm_start=False)"
      ]
     },
     "execution_count": 98,
     "metadata": {},
     "output_type": "execute_result"
    }
   ],
   "source": [
    "lasso = Lasso(alpha = .001)  # sets alpha to almost zero as baseline\n",
    "lasso.fit(x_train, y_train)\n"
   ]
  },
  {
   "cell_type": "code",
   "execution_count": 99,
   "metadata": {},
   "outputs": [
    {
     "name": "stdout",
     "output_type": "stream",
     "text": [
      "Accuracy/ R-squared value Training Set:   0.16054868122334787\n",
      "Accuracy/ R-squared value Testing Set:   0.171064128907658\n"
     ]
    }
   ],
   "source": [
    "#Calculating train/test scores - R-squared value \n",
    "print(\"Accuracy/ R-squared value Training Set:  \", lasso.score(x_train, y_train))\n",
    "print(\"Accuracy/ R-squared value Testing Set:  \", lasso.score(x_test, y_test))"
   ]
  },
  {
   "cell_type": "code",
   "execution_count": 100,
   "metadata": {},
   "outputs": [
    {
     "name": "stdout",
     "output_type": "stream",
     "text": [
      "Cross-validation results:  [0.13542436 0.15273187 0.16042742 0.1647034  0.1772115 ]\n",
      "R2:  0.15809970964341813\n"
     ]
    }
   ],
   "source": [
    "# Caluculation of Cross Validation\n",
    "lasso_cv = cross_val_score(lasso, X, Y, cv = 5, scoring = 'r2')\n",
    "print (\"Cross-validation results: \", lasso_cv)\n",
    "print (\"R2: \", lasso_cv.mean())"
   ]
  },
  {
   "cell_type": "code",
   "execution_count": 101,
   "metadata": {},
   "outputs": [],
   "source": [
    "predictions_test = lasso.predict(x_test)\n",
    "predictions_train = lasso.predict(x_train)"
   ]
  },
  {
   "cell_type": "code",
   "execution_count": 102,
   "metadata": {},
   "outputs": [
    {
     "name": "stdout",
     "output_type": "stream",
     "text": [
      "Mean Squared Error MSE on Training set:  1298242431130796.2\n",
      "Mean Squared Error MSE on Testing set:  1315384628728127.2\n"
     ]
    }
   ],
   "source": [
    "# Calculation of mean squared error for testing  and training data \n",
    "mse_train = np.mean((predictions_train - y_train)**2)\n",
    "print(\"Mean Squared Error MSE on Training set: \", mse_train )\n",
    "\n",
    "mse_test = np.mean((predictions_test - y_test)**2)\n",
    "print(\"Mean Squared Error MSE on Testing set: \", mse_test )\n"
   ]
  },
  {
   "cell_type": "code",
   "execution_count": 103,
   "metadata": {},
   "outputs": [
    {
     "name": "stdout",
     "output_type": "stream",
     "text": [
      "Root-Mean-Squared-Error RMSE on Training set:  36268231.67357509\n",
      "Root-Mean-Squared-Error RMSE on Testing set:  36031131.41619065\n"
     ]
    }
   ],
   "source": [
    "# Calculate the root mean square error (RMSE) for testing  and training data\n",
    "N = len(y_test)\n",
    "rmse_test = np.sqrt(np.sum((np.array(y_test).flatten() - np.array(predictions_test).flatten())**2)/N)\n",
    "print(\"Root-Mean-Squared-Error RMSE on Training set: \", rmse_test)     \n",
    "\n",
    "N = len(y_train)\n",
    "rmse_train = np.sqrt(np.sum((np.array(y_train).flatten() - np.array(predictions_train).flatten())**2)/N)\n",
    "print(\"Root-Mean-Squared-Error RMSE on Testing set: \", rmse_train)"
   ]
  },
  {
   "cell_type": "code",
   "execution_count": 104,
   "metadata": {},
   "outputs": [
    {
     "name": "stdout",
     "output_type": "stream",
     "text": [
      "Mean-Absolute-Error MAE on Training set:  17425921.0600815\n",
      "Mean-Absolute-Error MAE on Testing set:  17471210.753704797\n"
     ]
    }
   ],
   "source": [
    "# Calculate mean absolute error for testing  and training data\n",
    "mae_train = mean_absolute_error(y_train, predictions_train)\n",
    "print(\"Mean-Absolute-Error MAE on Training set: \", mae_train) \n",
    "\n",
    "mae_test = mean_absolute_error(y_test, predictions_test)\n",
    "print(\"Mean-Absolute-Error MAE on Testing set: \", mae_test) "
   ]
  },
  {
   "cell_type": "code",
   "execution_count": 105,
   "metadata": {},
   "outputs": [
    {
     "name": "stdout",
     "output_type": "stream",
     "text": [
      "R² or Coefficient of Determination on Testing set:  0.171064128907658\n"
     ]
    }
   ],
   "source": [
    "# calculate r2 score\n",
    "r2 = r2_score(y_test, predictions_test)\n",
    "print(\"R² or Coefficient of Determination on Testing set: \", r2) "
   ]
  },
  {
   "cell_type": "code",
   "execution_count": 106,
   "metadata": {},
   "outputs": [
    {
     "name": "stdout",
     "output_type": "stream",
     "text": [
      "Adjusted R² on Testing set:  0.17096795509028062\n"
     ]
    }
   ],
   "source": [
    "# adjusted r2 using formula adj_r2 = 1 - (1- r2) * (n-1) / (n - k - 1)\n",
    "# k = number of predictors = data.shape[1] - 1\n",
    "adj_r2 = 1 - (1-r2)*(len(data) - 1) / (len(data) - (data.shape[1] - 1) - 1)\n",
    "print(\"Adjusted R² on Testing set: \", adj_r2)"
   ]
  },
  {
   "cell_type": "code",
   "execution_count": 107,
   "metadata": {},
   "outputs": [
    {
     "data": {
      "image/png": "[encoded data removed]",
      "text/plain": [
       "<Figure size 2160x720 with 9 Axes>"
      ]
     },
     "metadata": {
      "needs_background": "light"
     },
     "output_type": "display_data"
    }
   ],
   "source": [
    "# Plotting scatter plots for different features against price of housing dataset\n",
    "fig, axes = plt.subplots(1,len(X.columns.values),sharey=True,constrained_layout=False,figsize=(30,10))\n",
    "\n",
    "for i,e in enumerate(X.columns):\n",
    "  lasso.fit(X[e].values[:,np.newaxis], Y.values)\n",
    "  axes[i].set_title(\"Best fit line\")\n",
    "  axes[i].set_xlabel(str(e))\n",
    "  axes[i].set_ylabel('Price')\n",
    "  axes[i].scatter(X[e].values[:,np.newaxis], Y,color='g')\n",
    "  axes[i].plot(X[e].values[:,np.newaxis], \n",
    "  lasso.predict(X[e].values[:,np.newaxis]),color='k')"
   ]
  }
 ],
 "metadata": {
  "kernelspec": {
   "display_name": "Python 3",
   "language": "python",
   "name": "python3"
  },
  "language_info": {
   "codemirror_mode": {
    "name": "ipython",
    "version": 3
   },
   "file_extension": ".py",
   "mimetype": "text/x-python",
   "name": "python",
   "nbconvert_exporter": "python",
   "pygments_lexer": "ipython3",
   "version": "3.8.8"
  }
 },
 "nbformat": 4,
 "nbformat_minor": 4
}
